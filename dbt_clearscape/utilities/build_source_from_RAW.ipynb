{
 "cells": [
  {
   "cell_type": "markdown",
   "metadata": {},
   "source": [
    "# Build Sources from CS01_RAW \n",
    "\n",
    "This is for building the testing framework.\n"
   ]
  },
  {
   "cell_type": "code",
   "execution_count": 1,
   "metadata": {},
   "outputs": [],
   "source": [
    "import teradatasql\n",
    "import yaml\n",
    "import sys\n",
    "import os\n",
    "import sqlparse\n",
    "import pandas as pd\n",
    "import yaml\n"
   ]
  },
  {
   "cell_type": "code",
   "execution_count": 2,
   "metadata": {},
   "outputs": [],
   "source": [
    "# get home directory\n",
    "from os.path import expanduser\n",
    "import pprint\n",
    "home = expanduser(\"~\")\n",
    "# assume project is called dbt_clearscape\n",
    "project = 'dbt_clearscape'\n",
    "# read config file\n",
    "with open(home + '/.dbt/profiles.yml') as file:\n",
    "    config = yaml.load(file, Loader=yaml.FullLoader)\n",
    "# get project config\n",
    "if project not in config:\n",
    "    print('project not found in config file')\n",
    "project_config = config[project]\n",
    "# get target\n",
    "target = project_config['target']\n",
    "# get connection details\n",
    "project_connection = project_config['outputs'][target]\n",
    "#pprint.pprint(project_connection)\n"
   ]
  },
  {
   "cell_type": "markdown",
   "metadata": {},
   "source": [
    "Connect to teradata"
   ]
  },
  {
   "cell_type": "code",
   "execution_count": 3,
   "metadata": {},
   "outputs": [],
   "source": [
    "# connect to teradata\n",
    "conn = teradatasql.connect(host=project_connection['server'], user=project_connection['username'], password=project_connection['password'])    "
   ]
  },
  {
   "cell_type": "code",
   "execution_count": 4,
   "metadata": {},
   "outputs": [
    {
     "name": "stdout",
     "output_type": "stream",
     "text": [
      "['aggregate_clicks', 'antiselect_test', 'attribution_sample_table1', 'attribution_sample_table2', 'bank_web_clicks', 'bin_titanic_train', 'cal_housing_ex_raw', 'cateogrySummaryTable', 'cat_titanic_train', 'clicks', 'clicks2', 'clickstream', 'col_titanic_train', 'company1_stock', 'complaints_test_tokenized', 'complaints_tokens_model', 'contingency1', 'conversion_event_table', 'convertTo_input', 'credit_ex_merged', 'decision_predict_output', 'dfp_housing_test', 'dfp_rft_model', 'diabetes', 'diabetes_sample', 'dtp_iris_attribute_output', 'dtp_iris_attribute_test', 'example_table', 'excluding_event_table', 'fillrowid_input', 'FitInputTable', 'FitOutputTable', 'function_input_table', 'getCabin', 'getFutileColumns_titanic', 'GetRows_input_table', 'getSubtitles', 'glmp_admissions_test', 'glmp_admissions_test2', 'glmp_housing_test', 'glm_admissions_model', 'glm_admissions_model2', 'glm_housing_model', 'hist_titanic_train', 'hist_titanic_train_dim', 'housing_full', 'housing_sample', 'housing_train', 'impressions', 'imputeFit', 'input_tbl', 'insect_sprays', 'iris_pred', 'kmeans_initial_centroids_table', 'kmeans_input_table', 'link2', 'model1_table', 'model2_table', 'mytesttable', 'nbp_iris_model', 'nbtct_complaints', 'nbtct_complaints_tokenized', 'nb_iris_input_test', 'ngram_paragraphs_input', 'NonLinearCombineFit', 'nonLinearCombineFit_input', 'nonLinearCombineFit_output', 'numApply_input', 'onehotencodingfit_input', 'onehotencodingfit_output', 'onehotencoding_input', 'onehotfittable', 'optional_event_table', 'ordinalFit_Embarked', 'ordinalFit_Gender', 'ordinalFit_Title', 'ordinal_titanic_dataset', 'ordinal_titanic_fit_output', 'outlierFilterFitTable', 'outlierFilterFit_input', 'person_test', 'person_train', 'polynomialFeaturesFit_input', 'polynomialFit', 'qqnorm_input_table', 'qqnorm_rankTable', 'ref_mobile_data_dense', 'roc_input', 'roundto_titanic', 'rowNormalizeFit_input', 'rowNormalizeFit_output', 'ScaleFit', 'scale_input_table', 'sentiment_extract_input', 'sentiment_word', 'sessionize_table', 'simpleimputefit_input', 'simpleimputetransform_input', 'stock_movement', 'stopwords_ex', 'strApply_input_table', 'strsimilarity_input', 'svm_iris_input_test', 'svm_iris_model', 'target_mobile_data_dense', 'test_table', 'titanic_train', 'trans1', 'transformations', 'tv_spots', 'UnivariateStats_titanic_train', 'unpack_input', 'ville_temperature', 'whichminmax_titanic_dataset']\n"
     ]
    }
   ],
   "source": [
    "raw_tables = []\n",
    "with conn.cursor() as cur:\n",
    "    # execute sql\n",
    "    cur.execute(\"SELECT tablename FROM dbc.tablesv WHERE databasename = 'CS01_RAW' order by tablename;\")\n",
    "    # get results\n",
    "    rows = cur.fetchall()\n",
    "    # print results\n",
    "    for row in rows:\n",
    "        raw_tables.append(row[0])\n",
    "\n",
    "# get all tables\n",
    "print(raw_tables)"
   ]
  },
  {
   "cell_type": "code",
   "execution_count": 10,
   "metadata": {},
   "outputs": [],
   "source": [
    "\n",
    "#version: 2\n",
    "#sources:\n",
    "#    - name: clearscape_tests\n",
    "#      schema: demo_user\n",
    "#      config:\n",
    "#        enabled: true\n",
    "#      tables:\n",
    "#        - name: antiselect_test\n",
    "raw_file = r'C:\\Users\\cw171001\\OneDrive - Teradata\\Documents\\dbt_clearscape\\dbt_clearscape\\dbt_clearscape\\models\\sources\\RAW.yml'\n",
    "with open(raw_file, 'w') as fh:\n",
    "    fh.write('version: 2\\n')\n",
    "    fh.write('sources:\\n')\n",
    "    fh.write('  - name: CS01_RAW\\n')\n",
    "    fh.write('    schema: CS01_RAW\\n')\n",
    "    fh.write('    tables:\\n')\n",
    "    for table in raw_tables:\n",
    "\n",
    "        fh.write('      - name: ' + table + '\\n')"
   ]
  },
  {
   "cell_type": "code",
   "execution_count": 8,
   "metadata": {},
   "outputs": [
    {
     "name": "stdout",
     "output_type": "stream",
     "text": [
      "table: aggregate_clicks\n",
      "i: 0\n",
      "trg_file_path: C:/Users/cw171001/OneDrive - Teradata/Documents/dbt_clearscape/dbt_clearscape/dbt_clearscape/models/raw/aggregate_clicks.sql\n",
      "table: antiselect_test\n",
      "i: 1\n",
      "trg_file_path: C:/Users/cw171001/OneDrive - Teradata/Documents/dbt_clearscape/dbt_clearscape/dbt_clearscape/models/raw/antiselect_test.sql\n",
      "table: attribution_sample_table1\n",
      "i: 2\n",
      "trg_file_path: C:/Users/cw171001/OneDrive - Teradata/Documents/dbt_clearscape/dbt_clearscape/dbt_clearscape/models/raw/attribution_sample_table1.sql\n",
      "table: attribution_sample_table2\n",
      "i: 3\n",
      "trg_file_path: C:/Users/cw171001/OneDrive - Teradata/Documents/dbt_clearscape/dbt_clearscape/dbt_clearscape/models/raw/attribution_sample_table2.sql\n",
      "table: bank_web_clicks\n",
      "i: 4\n",
      "trg_file_path: C:/Users/cw171001/OneDrive - Teradata/Documents/dbt_clearscape/dbt_clearscape/dbt_clearscape/models/raw/bank_web_clicks.sql\n",
      "table: bin_titanic_train\n",
      "i: 5\n",
      "trg_file_path: C:/Users/cw171001/OneDrive - Teradata/Documents/dbt_clearscape/dbt_clearscape/dbt_clearscape/models/raw/bin_titanic_train.sql\n",
      "table: cal_housing_ex_raw\n",
      "i: 6\n",
      "trg_file_path: C:/Users/cw171001/OneDrive - Teradata/Documents/dbt_clearscape/dbt_clearscape/dbt_clearscape/models/raw/cal_housing_ex_raw.sql\n",
      "table: cateogrySummaryTable\n",
      "i: 7\n",
      "trg_file_path: C:/Users/cw171001/OneDrive - Teradata/Documents/dbt_clearscape/dbt_clearscape/dbt_clearscape/models/raw/cateogrySummaryTable.sql\n",
      "table: cat_titanic_train\n",
      "i: 8\n",
      "trg_file_path: C:/Users/cw171001/OneDrive - Teradata/Documents/dbt_clearscape/dbt_clearscape/dbt_clearscape/models/raw/cat_titanic_train.sql\n",
      "table: clicks\n",
      "i: 9\n",
      "trg_file_path: C:/Users/cw171001/OneDrive - Teradata/Documents/dbt_clearscape/dbt_clearscape/dbt_clearscape/models/raw/clicks.sql\n",
      "table: clicks2\n",
      "i: 10\n",
      "trg_file_path: C:/Users/cw171001/OneDrive - Teradata/Documents/dbt_clearscape/dbt_clearscape/dbt_clearscape/models/raw/clicks2.sql\n",
      "table: clickstream\n",
      "i: 11\n",
      "trg_file_path: C:/Users/cw171001/OneDrive - Teradata/Documents/dbt_clearscape/dbt_clearscape/dbt_clearscape/models/raw/clickstream.sql\n",
      "table: col_titanic_train\n",
      "i: 12\n",
      "trg_file_path: C:/Users/cw171001/OneDrive - Teradata/Documents/dbt_clearscape/dbt_clearscape/dbt_clearscape/models/raw/col_titanic_train.sql\n",
      "table: company1_stock\n",
      "i: 13\n",
      "trg_file_path: C:/Users/cw171001/OneDrive - Teradata/Documents/dbt_clearscape/dbt_clearscape/dbt_clearscape/models/raw/company1_stock.sql\n",
      "table: complaints_test_tokenized\n",
      "i: 14\n",
      "trg_file_path: C:/Users/cw171001/OneDrive - Teradata/Documents/dbt_clearscape/dbt_clearscape/dbt_clearscape/models/raw/complaints_test_tokenized.sql\n",
      "table: complaints_tokens_model\n",
      "i: 15\n",
      "trg_file_path: C:/Users/cw171001/OneDrive - Teradata/Documents/dbt_clearscape/dbt_clearscape/dbt_clearscape/models/raw/complaints_tokens_model.sql\n",
      "table: contingency1\n",
      "i: 16\n",
      "trg_file_path: C:/Users/cw171001/OneDrive - Teradata/Documents/dbt_clearscape/dbt_clearscape/dbt_clearscape/models/raw/contingency1.sql\n",
      "table: conversion_event_table\n",
      "i: 17\n",
      "trg_file_path: C:/Users/cw171001/OneDrive - Teradata/Documents/dbt_clearscape/dbt_clearscape/dbt_clearscape/models/raw/conversion_event_table.sql\n",
      "table: convertTo_input\n",
      "i: 18\n",
      "trg_file_path: C:/Users/cw171001/OneDrive - Teradata/Documents/dbt_clearscape/dbt_clearscape/dbt_clearscape/models/raw/convertTo_input.sql\n",
      "table: credit_ex_merged\n",
      "i: 19\n",
      "trg_file_path: C:/Users/cw171001/OneDrive - Teradata/Documents/dbt_clearscape/dbt_clearscape/dbt_clearscape/models/raw/credit_ex_merged.sql\n",
      "table: decision_predict_output\n",
      "i: 20\n",
      "trg_file_path: C:/Users/cw171001/OneDrive - Teradata/Documents/dbt_clearscape/dbt_clearscape/dbt_clearscape/models/raw/decision_predict_output.sql\n",
      "table: dfp_housing_test\n",
      "i: 21\n",
      "trg_file_path: C:/Users/cw171001/OneDrive - Teradata/Documents/dbt_clearscape/dbt_clearscape/dbt_clearscape/models/raw/dfp_housing_test.sql\n",
      "table: dfp_rft_model\n",
      "i: 22\n",
      "trg_file_path: C:/Users/cw171001/OneDrive - Teradata/Documents/dbt_clearscape/dbt_clearscape/dbt_clearscape/models/raw/dfp_rft_model.sql\n",
      "table: diabetes\n",
      "i: 23\n",
      "trg_file_path: C:/Users/cw171001/OneDrive - Teradata/Documents/dbt_clearscape/dbt_clearscape/dbt_clearscape/models/raw/diabetes.sql\n",
      "table: diabetes_sample\n",
      "i: 24\n",
      "trg_file_path: C:/Users/cw171001/OneDrive - Teradata/Documents/dbt_clearscape/dbt_clearscape/dbt_clearscape/models/raw/diabetes_sample.sql\n",
      "table: dtp_iris_attribute_output\n",
      "i: 25\n",
      "trg_file_path: C:/Users/cw171001/OneDrive - Teradata/Documents/dbt_clearscape/dbt_clearscape/dbt_clearscape/models/raw/dtp_iris_attribute_output.sql\n",
      "table: dtp_iris_attribute_test\n",
      "i: 26\n",
      "trg_file_path: C:/Users/cw171001/OneDrive - Teradata/Documents/dbt_clearscape/dbt_clearscape/dbt_clearscape/models/raw/dtp_iris_attribute_test.sql\n",
      "table: example_table\n",
      "i: 27\n",
      "trg_file_path: C:/Users/cw171001/OneDrive - Teradata/Documents/dbt_clearscape/dbt_clearscape/dbt_clearscape/models/raw/example_table.sql\n",
      "table: excluding_event_table\n",
      "i: 28\n",
      "trg_file_path: C:/Users/cw171001/OneDrive - Teradata/Documents/dbt_clearscape/dbt_clearscape/dbt_clearscape/models/raw/excluding_event_table.sql\n",
      "table: fillrowid_input\n",
      "i: 29\n",
      "trg_file_path: C:/Users/cw171001/OneDrive - Teradata/Documents/dbt_clearscape/dbt_clearscape/dbt_clearscape/models/raw/fillrowid_input.sql\n",
      "table: FitInputTable\n",
      "i: 30\n",
      "trg_file_path: C:/Users/cw171001/OneDrive - Teradata/Documents/dbt_clearscape/dbt_clearscape/dbt_clearscape/models/raw/FitInputTable.sql\n",
      "table: FitOutputTable\n",
      "i: 31\n"
     ]
    }
   ],
   "source": [
    "# now build the individual models\n",
    "trg_path = r'C:\\Users\\cw171001\\OneDrive - Teradata\\Documents\\dbt_clearscape\\dbt_clearscape\\dbt_clearscape\\models\\raw'\n",
    "# change \\\\ to / for windows\n",
    "trg_path = trg_path.replace('\\\\', '/')\n",
    "if not os.path.exists(trg_path):\n",
    "    os.makedirs(trg_path)\n",
    "# now loop thru all raw tables and create a model for each\n",
    "# based on the template\n",
    "template_str = \"\"\"\n",
    "{{ config(\n",
    "    materialized='view',\n",
    "    schema='RAW_VIEW'\n",
    "\n",
    ") }}\n",
    "SELECT * FROM {{ source('CS01_RAW','test_table') }}\n",
    "\"\"\"\n",
    "for i,table in enumerate(raw_tables):\n",
    "    print(\"table:\",table)\n",
    "    print(\"i:\",i)\n",
    "    if i > 30:\n",
    "        break\n",
    "    trg_file_path = trg_path + '/' + table + '.sql'\n",
    "    print(\"trg_file_path:\",trg_file_path)\n",
    "    with open(trg_path + '/' + table + '.sql', 'w') as fh:\n",
    "        fh.write(template_str.replace('test_table', table))\n",
    "    \n",
    "\n"
   ]
  }
 ],
 "metadata": {
  "kernelspec": {
   "display_name": "dbt-env",
   "language": "python",
   "name": "python3"
  },
  "language_info": {
   "codemirror_mode": {
    "name": "ipython",
    "version": 3
   },
   "file_extension": ".py",
   "mimetype": "text/x-python",
   "name": "python",
   "nbconvert_exporter": "python",
   "pygments_lexer": "ipython3",
   "version": "3.12.7"
  }
 },
 "nbformat": 4,
 "nbformat_minor": 2
}
