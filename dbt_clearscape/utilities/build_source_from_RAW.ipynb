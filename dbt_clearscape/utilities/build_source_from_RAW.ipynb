{
 "cells": [
  {
   "cell_type": "markdown",
   "metadata": {},
   "source": [
    "# Build Sources from CS01_RAW \n",
    "\n",
    "This is for building the testing framework.\n"
   ]
  },
  {
   "cell_type": "code",
   "execution_count": 7,
   "metadata": {},
   "outputs": [],
   "source": [
    "import teradatasql\n",
    "import yaml\n",
    "import sys\n",
    "import os\n",
    "import sqlparse\n",
    "import pandas as pd\n",
    "import yaml\n"
   ]
  },
  {
   "cell_type": "code",
   "execution_count": 8,
   "metadata": {},
   "outputs": [],
   "source": [
    "# get home directory\n",
    "from os.path import expanduser\n",
    "import pprint\n",
    "home = expanduser(\"~\")\n",
    "# assume project is called dbt_clearscape\n",
    "project = 'dbt_clearscape'\n",
    "# read config file\n",
    "with open(home + '/.dbt/profiles.yml') as file:\n",
    "    config = yaml.load(file, Loader=yaml.FullLoader)\n",
    "# get project config\n",
    "if project not in config:\n",
    "    print('project not found in config file')\n",
    "project_config = config[project]\n",
    "# get target\n",
    "target = project_config['target']\n",
    "# get connection details\n",
    "project_connection = project_config['outputs'][target]\n",
    "#pprint.pprint(project_connection)\n"
   ]
  },
  {
   "cell_type": "markdown",
   "metadata": {},
   "source": [
    "Connect to teradata"
   ]
  },
  {
   "cell_type": "code",
   "execution_count": 9,
   "metadata": {},
   "outputs": [],
   "source": [
    "# connect to teradata\n",
    "conn = teradatasql.connect(host=project_connection['server'], user=project_connection['username'], password=project_connection['password'])    "
   ]
  },
  {
   "cell_type": "code",
   "execution_count": 10,
   "metadata": {},
   "outputs": [
    {
     "name": "stdout",
     "output_type": "stream",
     "text": [
      "['ageandheight', 'ageandpressure', 'aggregate_clicks', 'antiselect_test', 'attribution_sample_table1', 'attribution_sample_table2', 'banking_web_clicks', 'bank_web_clicks', 'betaEncFitTbl', 'BINARYM_COMPLEX_LEFT', 'BINARYM_COMPLEX_RIGHT', 'BINARYM_REALS_LEFT', 'BINARYM_REALS_RIGHT', 'BINARY_COMPLEX_LEFT', 'BINARY_COMPLEX_RIGHT', 'BINARY_REALS_LEFT', 'BINARY_REALS_RIGHT', 'bin_titanic_train', 'blood2ageandweight', 'boston_data', 'BuoyData2', 'BuoyData_Mix', 'BUOY_TABLE', 'cal_housing_ex_raw', 'cars_hist', 'categoryTable', 'cateogrySummaryTable', 'catTable', 'cat_titanic_train', 'clicks', 'clicks2', 'clickstream', 'col_titanic_train', 'company1_stock', 'complaints_test_tokenized', 'complaints_tokens_model', 'contingency1', 'conversion_event_table', 'convertTo_input', 'Convolve2ValidLeft', 'Convolve2ValidRight', 'CONVOLVE2_COMPLEX_LEFT', 'CONVOLVE2_COMPLEX_RIGHT', 'CONVOLVE2_REALS_LEFT', 'CONVOLVE2_REALS_RIGHT', 'credit_ex_merged', 'decision_predict_output', 'DFFT2Conv_Real_4_4', 'DFFT2_TestMatrix16', 'DFFTConv_Real_8_8', 'dfp_housing_test', 'dfp_rft_model', 'diabetes', 'diabetes_sample', 'dirichletEncFitTbl', 'dtp_iris_attribute_output', 'dtp_iris_attribute_test', 'dtw_t1', 'dtw_t2', 'example_table', 'excluding_event_table', 'features', 'fillrowid_input', 'FitInputTable', 'FitOutputTable', 'fm_blood2ageandweight', 'function_input_table', 'genData', 'getCabin', 'getFutileColumns_titanic', 'GetRows_input_table', 'getSubtitles', 'GIGEncFitTbl', 'glmp_admissions_test', 'glmp_admissions_test2', 'glmp_housing_test', 'glm_admissions_model', 'glm_admissions_model2', 'glm_housing_model', 'GQ_T1', 'HCONVOLVE_COMPLEX_RIGHT', 'HCONVOLVE_COMPLEX_RIGHTMULTI', 'hist_titanic_train', 'hist_titanic_train_dim', 'HOUSE_VALUES', 'HOUSE_VALUES2', 'housing_full', 'housing_sample', 'housing_train', 'housing_train_attribute', 'housing_train_parameter', 'housing_train_segment', 'impressions', 'imputeFit', 'INFLATION', 'input_table', 'input_tbl', 'insect_sprays', 'iris_pred', 'kmeans_initial_centroids_table', 'kmeans_input_table', 'link2', 'minmaxTable', 'model1_table', 'model2_table', 'model_table', 'mtx1', 'mtx2', 'MVDFFT8', 'mytesttable', 'nbp_iris_model', 'nbtct_complaints', 'nbtct_complaints_tokenized', 'nb_iris_input_test', 'ngram_paragraphs_input', 'NonLinearCombineFit', 'nonLinearCombineFit_input', 'nonLinearCombineFit_output', 'numApply_input', 'OceanBuoy', 'OceanBuoy2', 'OCEAN_BUOYS', 'OCEAN_BUOYS2', 'onehotencodingfit_input', 'onehotencodingfit_output', 'onehotencoding_input', 'onehotfittable', 'onehot_sparse_fit', 'onehot_sparse_input', 'onehot_titanic_dataset', 'onehot_titanic_fit_output', 'optional_event_table', 'orders1', 'Orders1_12', 'Orders1_12mf', 'ordinalFit_Embarked', 'ordinalFit_Gender', 'ordinalFit_Title', 'ordinal_titanic_dataset', 'ordinal_titanic_fit_output', 'outlierFilterFitTable', 'outlierFilterFit_input', 'person_test', 'person_train', 'playerRating', 'polynomialFeaturesFit_input', 'polynomialFit', 'ProductionData', 'ProductionData2', 'qqnorm_input_table', 'qqnorm_rankTable', 'ref_mobile_data_dense', 'RiverData', 'roc_input', 'roundto_titanic', 'rowNormalizeFit_input', 'rowNormalizeFit_output', 'Sales', 'sales_test', 'sales_train', 'ScaleFit', 'scale_input_table', 'seeds', 'sentiment_extract_input', 'sentiment_word', 'sessionize_table', 'simpleimputefit_input', 'simpleimputetransform_input', 'SMOOTHED_DATA', 'souvenirtimeseries', 'StockDataSet', 'stock_movement', 'stopwords_ex', 'stores', 'StoreSales', 'strApply_input_table', 'strsimilarity_input', 'svm_iris_input_test', 'svm_iris_model', 'target_mobile_data_dense', 'temporal_orientation_segment', 'TestDFFT8', 'TestPACF12', 'TestRiver', 'test_table', 'TE_titanic_train', 'TimeSeriesDataSetsD4', 'titanicDataset', 'titanic_train', 'Traindata', 'trans1', 'transformations', 'tv_spots', 'UnivariateStats_titanic_train', 'unpack_input', 'US_AirPass', 'ville_temperature', 'waveletTable', 'waveletTable2', 'whichminmax_titanic_dataset', 'wordEmbedModel', 'wordEmb_inputTable', 'wordEmb_inputTable2', 'XCONVOLVE_COMPLEX_LEFT', 'XCONVOLVE_COMPLEX_LEFTMULTI', 'xgboostTest', 'xgboostTrain', 'xgboost_classification_model', 'xgb_diabetes_sample', 'xgb_housing_sample']\n"
     ]
    }
   ],
   "source": [
    "raw_tables = []\n",
    "with conn.cursor() as cur:\n",
    "    # execute sql\n",
    "    cur.execute(\"SELECT tablename FROM dbc.tablesv WHERE databasename = 'CS01_RAW' order by tablename;\")\n",
    "    # get results\n",
    "    rows = cur.fetchall()\n",
    "    # print results\n",
    "    for row in rows:\n",
    "        raw_tables.append(row[0])\n",
    "\n",
    "# get all tables\n",
    "print(raw_tables)"
   ]
  },
  {
   "cell_type": "code",
   "execution_count": 11,
   "metadata": {},
   "outputs": [],
   "source": [
    "\n",
    "#version: 2\n",
    "#sources:\n",
    "#    - name: clearscape_tests\n",
    "#      schema: demo_user\n",
    "#      config:\n",
    "#        enabled: true\n",
    "#      tables:\n",
    "#        - name: antiselect_test\n",
    "raw_file = r'C:\\Users\\cw171001\\OneDrive - Teradata\\Documents\\dbt_clearscape\\dbt_clearscape\\dbt_clearscape\\models\\sources\\RAW.yml'\n",
    "with open(raw_file, 'w') as fh:\n",
    "    fh.write('version: 2\\n')\n",
    "    fh.write('sources:\\n')\n",
    "    fh.write('  - name: CS01_RAW\\n')\n",
    "    fh.write('    schema: CS01_RAW\\n')\n",
    "    fh.write('    tables:\\n')\n",
    "    for table in raw_tables:\n",
    "\n",
    "        fh.write('      - name: ' + table + '\\n')"
   ]
  },
  {
   "cell_type": "code",
   "execution_count": 12,
   "metadata": {},
   "outputs": [
    {
     "name": "stdout",
     "output_type": "stream",
     "text": [
      "table: ageandheight\n",
      "i: 0\n",
      "trg_file_path: C:/Users/cw171001/OneDrive - Teradata/Documents/dbt_clearscape/dbt_clearscape/dbt_clearscape/models/raw/ageandheight.sql\n",
      "table: ageandpressure\n",
      "i: 1\n",
      "trg_file_path: C:/Users/cw171001/OneDrive - Teradata/Documents/dbt_clearscape/dbt_clearscape/dbt_clearscape/models/raw/ageandpressure.sql\n",
      "table: aggregate_clicks\n",
      "i: 2\n",
      "trg_file_path: C:/Users/cw171001/OneDrive - Teradata/Documents/dbt_clearscape/dbt_clearscape/dbt_clearscape/models/raw/aggregate_clicks.sql\n",
      "table: antiselect_test\n",
      "i: 3\n",
      "trg_file_path: C:/Users/cw171001/OneDrive - Teradata/Documents/dbt_clearscape/dbt_clearscape/dbt_clearscape/models/raw/antiselect_test.sql\n",
      "table: attribution_sample_table1\n",
      "i: 4\n",
      "trg_file_path: C:/Users/cw171001/OneDrive - Teradata/Documents/dbt_clearscape/dbt_clearscape/dbt_clearscape/models/raw/attribution_sample_table1.sql\n",
      "table: attribution_sample_table2\n",
      "i: 5\n",
      "trg_file_path: C:/Users/cw171001/OneDrive - Teradata/Documents/dbt_clearscape/dbt_clearscape/dbt_clearscape/models/raw/attribution_sample_table2.sql\n",
      "table: banking_web_clicks\n",
      "i: 6\n",
      "trg_file_path: C:/Users/cw171001/OneDrive - Teradata/Documents/dbt_clearscape/dbt_clearscape/dbt_clearscape/models/raw/banking_web_clicks.sql\n",
      "table: bank_web_clicks\n",
      "i: 7\n",
      "trg_file_path: C:/Users/cw171001/OneDrive - Teradata/Documents/dbt_clearscape/dbt_clearscape/dbt_clearscape/models/raw/bank_web_clicks.sql\n",
      "table: betaEncFitTbl\n",
      "i: 8\n",
      "trg_file_path: C:/Users/cw171001/OneDrive - Teradata/Documents/dbt_clearscape/dbt_clearscape/dbt_clearscape/models/raw/betaEncFitTbl.sql\n",
      "table: BINARYM_COMPLEX_LEFT\n",
      "i: 9\n",
      "trg_file_path: C:/Users/cw171001/OneDrive - Teradata/Documents/dbt_clearscape/dbt_clearscape/dbt_clearscape/models/raw/BINARYM_COMPLEX_LEFT.sql\n",
      "table: BINARYM_COMPLEX_RIGHT\n",
      "i: 10\n",
      "trg_file_path: C:/Users/cw171001/OneDrive - Teradata/Documents/dbt_clearscape/dbt_clearscape/dbt_clearscape/models/raw/BINARYM_COMPLEX_RIGHT.sql\n",
      "table: BINARYM_REALS_LEFT\n",
      "i: 11\n",
      "trg_file_path: C:/Users/cw171001/OneDrive - Teradata/Documents/dbt_clearscape/dbt_clearscape/dbt_clearscape/models/raw/BINARYM_REALS_LEFT.sql\n",
      "table: BINARYM_REALS_RIGHT\n",
      "i: 12\n",
      "trg_file_path: C:/Users/cw171001/OneDrive - Teradata/Documents/dbt_clearscape/dbt_clearscape/dbt_clearscape/models/raw/BINARYM_REALS_RIGHT.sql\n",
      "table: BINARY_COMPLEX_LEFT\n",
      "i: 13\n",
      "trg_file_path: C:/Users/cw171001/OneDrive - Teradata/Documents/dbt_clearscape/dbt_clearscape/dbt_clearscape/models/raw/BINARY_COMPLEX_LEFT.sql\n",
      "table: BINARY_COMPLEX_RIGHT\n",
      "i: 14\n",
      "trg_file_path: C:/Users/cw171001/OneDrive - Teradata/Documents/dbt_clearscape/dbt_clearscape/dbt_clearscape/models/raw/BINARY_COMPLEX_RIGHT.sql\n",
      "table: BINARY_REALS_LEFT\n",
      "i: 15\n",
      "trg_file_path: C:/Users/cw171001/OneDrive - Teradata/Documents/dbt_clearscape/dbt_clearscape/dbt_clearscape/models/raw/BINARY_REALS_LEFT.sql\n",
      "table: BINARY_REALS_RIGHT\n",
      "i: 16\n",
      "trg_file_path: C:/Users/cw171001/OneDrive - Teradata/Documents/dbt_clearscape/dbt_clearscape/dbt_clearscape/models/raw/BINARY_REALS_RIGHT.sql\n",
      "table: bin_titanic_train\n",
      "i: 17\n",
      "trg_file_path: C:/Users/cw171001/OneDrive - Teradata/Documents/dbt_clearscape/dbt_clearscape/dbt_clearscape/models/raw/bin_titanic_train.sql\n",
      "table: blood2ageandweight\n",
      "i: 18\n",
      "trg_file_path: C:/Users/cw171001/OneDrive - Teradata/Documents/dbt_clearscape/dbt_clearscape/dbt_clearscape/models/raw/blood2ageandweight.sql\n",
      "table: boston_data\n",
      "i: 19\n",
      "trg_file_path: C:/Users/cw171001/OneDrive - Teradata/Documents/dbt_clearscape/dbt_clearscape/dbt_clearscape/models/raw/boston_data.sql\n",
      "table: BuoyData2\n",
      "i: 20\n",
      "trg_file_path: C:/Users/cw171001/OneDrive - Teradata/Documents/dbt_clearscape/dbt_clearscape/dbt_clearscape/models/raw/BuoyData2.sql\n",
      "table: BuoyData_Mix\n",
      "i: 21\n",
      "trg_file_path: C:/Users/cw171001/OneDrive - Teradata/Documents/dbt_clearscape/dbt_clearscape/dbt_clearscape/models/raw/BuoyData_Mix.sql\n",
      "table: BUOY_TABLE\n",
      "i: 22\n",
      "trg_file_path: C:/Users/cw171001/OneDrive - Teradata/Documents/dbt_clearscape/dbt_clearscape/dbt_clearscape/models/raw/BUOY_TABLE.sql\n",
      "table: cal_housing_ex_raw\n",
      "i: 23\n",
      "trg_file_path: C:/Users/cw171001/OneDrive - Teradata/Documents/dbt_clearscape/dbt_clearscape/dbt_clearscape/models/raw/cal_housing_ex_raw.sql\n",
      "table: cars_hist\n",
      "i: 24\n",
      "trg_file_path: C:/Users/cw171001/OneDrive - Teradata/Documents/dbt_clearscape/dbt_clearscape/dbt_clearscape/models/raw/cars_hist.sql\n",
      "table: categoryTable\n",
      "i: 25\n",
      "trg_file_path: C:/Users/cw171001/OneDrive - Teradata/Documents/dbt_clearscape/dbt_clearscape/dbt_clearscape/models/raw/categoryTable.sql\n",
      "table: cateogrySummaryTable\n",
      "i: 26\n",
      "trg_file_path: C:/Users/cw171001/OneDrive - Teradata/Documents/dbt_clearscape/dbt_clearscape/dbt_clearscape/models/raw/cateogrySummaryTable.sql\n",
      "table: catTable\n",
      "i: 27\n",
      "trg_file_path: C:/Users/cw171001/OneDrive - Teradata/Documents/dbt_clearscape/dbt_clearscape/dbt_clearscape/models/raw/catTable.sql\n",
      "table: cat_titanic_train\n",
      "i: 28\n",
      "trg_file_path: C:/Users/cw171001/OneDrive - Teradata/Documents/dbt_clearscape/dbt_clearscape/dbt_clearscape/models/raw/cat_titanic_train.sql\n",
      "table: clicks\n",
      "i: 29\n",
      "trg_file_path: C:/Users/cw171001/OneDrive - Teradata/Documents/dbt_clearscape/dbt_clearscape/dbt_clearscape/models/raw/clicks.sql\n",
      "table: clicks2\n",
      "i: 30\n",
      "trg_file_path: C:/Users/cw171001/OneDrive - Teradata/Documents/dbt_clearscape/dbt_clearscape/dbt_clearscape/models/raw/clicks2.sql\n",
      "table: clickstream\n",
      "i: 31\n"
     ]
    }
   ],
   "source": [
    "# now build the individual models\n",
    "trg_path = r'C:\\Users\\cw171001\\OneDrive - Teradata\\Documents\\dbt_clearscape\\dbt_clearscape\\dbt_clearscape\\models\\raw'\n",
    "# change \\\\ to / for windows\n",
    "trg_path = trg_path.replace('\\\\', '/')\n",
    "if not os.path.exists(trg_path):\n",
    "    os.makedirs(trg_path)\n",
    "# now loop thru all raw tables and create a model for each\n",
    "# based on the template\n",
    "template_str = \"\"\"\n",
    "{{ config(\n",
    "    materialized='view',\n",
    "    schema='RAW_VIEW'\n",
    "\n",
    ") }}\n",
    "SELECT * FROM {{ source('CS01_RAW','test_table') }}\n",
    "\"\"\"\n",
    "for i,table in enumerate(raw_tables):\n",
    "    print(\"table:\",table)\n",
    "    print(\"i:\",i)\n",
    "    if i > 30:\n",
    "        break\n",
    "    trg_file_path = trg_path + '/' + table + '.sql'\n",
    "    print(\"trg_file_path:\",trg_file_path)\n",
    "    with open(trg_path + '/' + table + '.sql', 'w') as fh:\n",
    "        fh.write(template_str.replace('test_table', table))\n",
    "    \n",
    "\n"
   ]
  }
 ],
 "metadata": {
  "kernelspec": {
   "display_name": "dbt-env",
   "language": "python",
   "name": "python3"
  },
  "language_info": {
   "codemirror_mode": {
    "name": "ipython",
    "version": 3
   },
   "file_extension": ".py",
   "mimetype": "text/x-python",
   "name": "python",
   "nbconvert_exporter": "python",
   "pygments_lexer": "ipython3",
   "version": "3.12.7"
  }
 },
 "nbformat": 4,
 "nbformat_minor": 2
}
