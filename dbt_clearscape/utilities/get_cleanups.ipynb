{
 "cells": [
  {
   "cell_type": "markdown",
   "metadata": {},
   "source": [
    "## Copy datasets cleanup and setup files\n",
    "\n",
    "This will copy the data set create and setup files from the teradata clearscape file . The scripts can be found in \n",
    "the documentation for each of table operators - search for one of the functions TD_KMEANS and download the pdf and sql files\n",
    "and place into a directory"
   ]
  },
  {
   "cell_type": "code",
   "execution_count": 15,
   "metadata": {},
   "outputs": [],
   "source": [
    "import glob\n",
    "import shutil\n",
    "import os\n",
    "from pathlib import Path\n"
   ]
  },
  {
   "cell_type": "markdown",
   "metadata": {},
   "source": [
    "Change directories as required"
   ]
  },
  {
   "cell_type": "code",
   "execution_count": 37,
   "metadata": {},
   "outputs": [
    {
     "name": "stdout",
     "output_type": "stream",
     "text": [
      "C:\\Users\\cw171001\n"
     ]
    }
   ],
   "source": [
    "# source directory\n",
    "# get path of home directory\n",
    "home_dir = Path.home()\n",
    "src_dir = f'{home_dir}\\\\Downloads\\\\SQLE-Analytic-Functions-Examples_17.20.03.22'\n",
    "trg_dir = f'{home_dir}' + r'\\OneDrive - Teradata\\Documents\\dbt_clearscape\\dbt_clearscape\\dbt_clearscape\\utilities\\cleanups'\n",
    "# convert backslashes to forward slashes\n",
    "src_dir = src_dir.replace('\\\\', '/')\n",
    "\n",
    "# convert trg_dir to full paqth\n",
    "trg_dir = trg_dir.replace('\\\\', '/')"
   ]
  },
  {
   "cell_type": "code",
   "execution_count": null,
   "metadata": {},
   "outputs": [],
   "source": [
    "#"
   ]
  },
  {
   "cell_type": "code",
   "execution_count": null,
   "metadata": {},
   "outputs": [],
   "source": []
  },
  {
   "cell_type": "code",
   "execution_count": 34,
   "metadata": {},
   "outputs": [
    {
     "name": "stdout",
     "output_type": "stream",
     "text": [
      "17_20_03_01_datasets_cleanup.sql\n",
      "File copied from C:/Users/cw171001/Downloads/SQLE-Analytic-Functions-Examples_17.20.03.22/17.20.03.01/datasets_cleanup.sql to \n",
      "C:/Users/cw171001/OneDrive - Teradata/Documents/dbt_clearscape/dbt_clearscape/dbt_clearscape/utilities/cleanups/17_20_03_01_datasets_cleanup.sql\n",
      "17_20_03_01_datasets_setup.sql\n",
      "File copied from C:/Users/cw171001/Downloads/SQLE-Analytic-Functions-Examples_17.20.03.22/17.20.03.01/datasets_setup.sql to \n",
      "C:/Users/cw171001/OneDrive - Teradata/Documents/dbt_clearscape/dbt_clearscape/dbt_clearscape/utilities/cleanups/17_20_03_01_datasets_setup.sql\n",
      "17_20_03_06_datasets_cleanup.sql\n",
      "File copied from C:/Users/cw171001/Downloads/SQLE-Analytic-Functions-Examples_17.20.03.22/17.20.03.06/datasets_cleanup.sql to \n",
      "C:/Users/cw171001/OneDrive - Teradata/Documents/dbt_clearscape/dbt_clearscape/dbt_clearscape/utilities/cleanups/17_20_03_06_datasets_cleanup.sql\n",
      "17_20_03_06_datasets_setup.sql\n",
      "File copied from C:/Users/cw171001/Downloads/SQLE-Analytic-Functions-Examples_17.20.03.22/17.20.03.06/datasets_setup.sql to \n",
      "C:/Users/cw171001/OneDrive - Teradata/Documents/dbt_clearscape/dbt_clearscape/dbt_clearscape/utilities/cleanups/17_20_03_06_datasets_setup.sql\n",
      "17_20_03_07_datasets_cleanup.sql\n",
      "File copied from C:/Users/cw171001/Downloads/SQLE-Analytic-Functions-Examples_17.20.03.22/17.20.03.07/datasets_cleanup.sql to \n",
      "C:/Users/cw171001/OneDrive - Teradata/Documents/dbt_clearscape/dbt_clearscape/dbt_clearscape/utilities/cleanups/17_20_03_07_datasets_cleanup.sql\n",
      "17_20_03_07_datasets_setup.sql\n",
      "File copied from C:/Users/cw171001/Downloads/SQLE-Analytic-Functions-Examples_17.20.03.22/17.20.03.07/datasets_setup.sql to \n",
      "C:/Users/cw171001/OneDrive - Teradata/Documents/dbt_clearscape/dbt_clearscape/dbt_clearscape/utilities/cleanups/17_20_03_07_datasets_setup.sql\n",
      "17_20_03_08_datasets_cleanup.sql\n",
      "File copied from C:/Users/cw171001/Downloads/SQLE-Analytic-Functions-Examples_17.20.03.22/17.20.03.08/datasets_cleanup.sql to \n",
      "C:/Users/cw171001/OneDrive - Teradata/Documents/dbt_clearscape/dbt_clearscape/dbt_clearscape/utilities/cleanups/17_20_03_08_datasets_cleanup.sql\n",
      "17_20_03_08_datasets_setup.sql\n",
      "File copied from C:/Users/cw171001/Downloads/SQLE-Analytic-Functions-Examples_17.20.03.22/17.20.03.08/datasets_setup.sql to \n",
      "C:/Users/cw171001/OneDrive - Teradata/Documents/dbt_clearscape/dbt_clearscape/dbt_clearscape/utilities/cleanups/17_20_03_08_datasets_setup.sql\n",
      "17_20_03_09_datasets_cleanup.sql\n",
      "File copied from C:/Users/cw171001/Downloads/SQLE-Analytic-Functions-Examples_17.20.03.22/17.20.03.09/datasets_cleanup.sql to \n",
      "C:/Users/cw171001/OneDrive - Teradata/Documents/dbt_clearscape/dbt_clearscape/dbt_clearscape/utilities/cleanups/17_20_03_09_datasets_cleanup.sql\n",
      "17_20_03_09_datasets_setup.sql\n",
      "File copied from C:/Users/cw171001/Downloads/SQLE-Analytic-Functions-Examples_17.20.03.22/17.20.03.09/datasets_setup.sql to \n",
      "C:/Users/cw171001/OneDrive - Teradata/Documents/dbt_clearscape/dbt_clearscape/dbt_clearscape/utilities/cleanups/17_20_03_09_datasets_setup.sql\n",
      "17_20_03_11_datasets_cleanup.sql\n",
      "File copied from C:/Users/cw171001/Downloads/SQLE-Analytic-Functions-Examples_17.20.03.22/17.20.03.11/datasets_cleanup.sql to \n",
      "C:/Users/cw171001/OneDrive - Teradata/Documents/dbt_clearscape/dbt_clearscape/dbt_clearscape/utilities/cleanups/17_20_03_11_datasets_cleanup.sql\n",
      "17_20_03_11_datasets_setup.sql\n",
      "File copied from C:/Users/cw171001/Downloads/SQLE-Analytic-Functions-Examples_17.20.03.22/17.20.03.11/datasets_setup.sql to \n",
      "C:/Users/cw171001/OneDrive - Teradata/Documents/dbt_clearscape/dbt_clearscape/dbt_clearscape/utilities/cleanups/17_20_03_11_datasets_setup.sql\n",
      "17_20_03_14_datasets_cleanup.sql\n",
      "File copied from C:/Users/cw171001/Downloads/SQLE-Analytic-Functions-Examples_17.20.03.22/17.20.03.14/datasets_cleanup.sql to \n",
      "C:/Users/cw171001/OneDrive - Teradata/Documents/dbt_clearscape/dbt_clearscape/dbt_clearscape/utilities/cleanups/17_20_03_14_datasets_cleanup.sql\n",
      "17_20_03_14_datasets_setup.sql\n",
      "File copied from C:/Users/cw171001/Downloads/SQLE-Analytic-Functions-Examples_17.20.03.22/17.20.03.14/datasets_setup.sql to \n",
      "C:/Users/cw171001/OneDrive - Teradata/Documents/dbt_clearscape/dbt_clearscape/dbt_clearscape/utilities/cleanups/17_20_03_14_datasets_setup.sql\n",
      "17_20_03_16_datasets_cleanup.sql\n",
      "File copied from C:/Users/cw171001/Downloads/SQLE-Analytic-Functions-Examples_17.20.03.22/17.20.03.16/datasets_cleanup.sql to \n",
      "C:/Users/cw171001/OneDrive - Teradata/Documents/dbt_clearscape/dbt_clearscape/dbt_clearscape/utilities/cleanups/17_20_03_16_datasets_cleanup.sql\n",
      "17_20_03_16_datasets_setup.sql\n",
      "File copied from C:/Users/cw171001/Downloads/SQLE-Analytic-Functions-Examples_17.20.03.22/17.20.03.16/datasets_setup.sql to \n",
      "C:/Users/cw171001/OneDrive - Teradata/Documents/dbt_clearscape/dbt_clearscape/dbt_clearscape/utilities/cleanups/17_20_03_16_datasets_setup.sql\n",
      "17_20_03_17_datasets_cleanup.sql\n",
      "File copied from C:/Users/cw171001/Downloads/SQLE-Analytic-Functions-Examples_17.20.03.22/17.20.03.17/datasets_cleanup.sql to \n",
      "C:/Users/cw171001/OneDrive - Teradata/Documents/dbt_clearscape/dbt_clearscape/dbt_clearscape/utilities/cleanups/17_20_03_17_datasets_cleanup.sql\n",
      "17_20_03_17_datasets_setup.sql\n",
      "File copied from C:/Users/cw171001/Downloads/SQLE-Analytic-Functions-Examples_17.20.03.22/17.20.03.17/datasets_setup.sql to \n",
      "C:/Users/cw171001/OneDrive - Teradata/Documents/dbt_clearscape/dbt_clearscape/dbt_clearscape/utilities/cleanups/17_20_03_17_datasets_setup.sql\n",
      "17_20_03_18_datasets_cleanup.sql\n",
      "File copied from C:/Users/cw171001/Downloads/SQLE-Analytic-Functions-Examples_17.20.03.22/17.20.03.18/datasets_cleanup.sql to \n",
      "C:/Users/cw171001/OneDrive - Teradata/Documents/dbt_clearscape/dbt_clearscape/dbt_clearscape/utilities/cleanups/17_20_03_18_datasets_cleanup.sql\n",
      "17_20_03_18_datasets_setup.sql\n",
      "File copied from C:/Users/cw171001/Downloads/SQLE-Analytic-Functions-Examples_17.20.03.22/17.20.03.18/datasets_setup.sql to \n",
      "C:/Users/cw171001/OneDrive - Teradata/Documents/dbt_clearscape/dbt_clearscape/dbt_clearscape/utilities/cleanups/17_20_03_18_datasets_setup.sql\n",
      "17_20_03_19_datasets_cleanup.sql\n",
      "File copied from C:/Users/cw171001/Downloads/SQLE-Analytic-Functions-Examples_17.20.03.22/17.20.03.19/datasets_cleanup.sql to \n",
      "C:/Users/cw171001/OneDrive - Teradata/Documents/dbt_clearscape/dbt_clearscape/dbt_clearscape/utilities/cleanups/17_20_03_19_datasets_cleanup.sql\n",
      "17_20_03_19_datasets_setup.sql\n",
      "File copied from C:/Users/cw171001/Downloads/SQLE-Analytic-Functions-Examples_17.20.03.22/17.20.03.19/datasets_setup.sql to \n",
      "C:/Users/cw171001/OneDrive - Teradata/Documents/dbt_clearscape/dbt_clearscape/dbt_clearscape/utilities/cleanups/17_20_03_19_datasets_setup.sql\n",
      "17_20_03_20_datasets_cleanup.sql\n",
      "File copied from C:/Users/cw171001/Downloads/SQLE-Analytic-Functions-Examples_17.20.03.22/17.20.03.20/datasets_cleanup.sql to \n",
      "C:/Users/cw171001/OneDrive - Teradata/Documents/dbt_clearscape/dbt_clearscape/dbt_clearscape/utilities/cleanups/17_20_03_20_datasets_cleanup.sql\n",
      "17_20_03_20_datasets_setup.sql\n",
      "File copied from C:/Users/cw171001/Downloads/SQLE-Analytic-Functions-Examples_17.20.03.22/17.20.03.20/datasets_setup.sql to \n",
      "C:/Users/cw171001/OneDrive - Teradata/Documents/dbt_clearscape/dbt_clearscape/dbt_clearscape/utilities/cleanups/17_20_03_20_datasets_setup.sql\n",
      "17_20_03_21_datasets_cleanup.sql\n",
      "File copied from C:/Users/cw171001/Downloads/SQLE-Analytic-Functions-Examples_17.20.03.22/17.20.03.21/datasets_cleanup.sql to \n",
      "C:/Users/cw171001/OneDrive - Teradata/Documents/dbt_clearscape/dbt_clearscape/dbt_clearscape/utilities/cleanups/17_20_03_21_datasets_cleanup.sql\n",
      "17_20_03_21_datasets_setup.sql\n",
      "File copied from C:/Users/cw171001/Downloads/SQLE-Analytic-Functions-Examples_17.20.03.22/17.20.03.21/datasets_setup.sql to \n",
      "C:/Users/cw171001/OneDrive - Teradata/Documents/dbt_clearscape/dbt_clearscape/dbt_clearscape/utilities/cleanups/17_20_03_21_datasets_setup.sql\n",
      "17_20_03_22_datasets_cleanup.sql\n",
      "File copied from C:/Users/cw171001/Downloads/SQLE-Analytic-Functions-Examples_17.20.03.22/17.20.03.22/datasets_cleanup.sql to \n",
      "C:/Users/cw171001/OneDrive - Teradata/Documents/dbt_clearscape/dbt_clearscape/dbt_clearscape/utilities/cleanups/17_20_03_22_datasets_cleanup.sql\n",
      "17_20_03_22_datasets_setup.sql\n",
      "File copied from C:/Users/cw171001/Downloads/SQLE-Analytic-Functions-Examples_17.20.03.22/17.20.03.22/datasets_setup.sql to \n",
      "C:/Users/cw171001/OneDrive - Teradata/Documents/dbt_clearscape/dbt_clearscape/dbt_clearscape/utilities/cleanups/17_20_03_22_datasets_setup.sql\n"
     ]
    }
   ],
   "source": [
    "# get all files in the source directory\n",
    "files = glob.glob(f'{src_dir}/*/dataset*.sql')\n",
    "for file in files:\n",
    "    # replace backslashes with forward slashes\n",
    "    file = file.replace('\\\\', '/')\n",
    "    # get directory name and file name\n",
    "    dir_name = file.split('/')[-2]\n",
    "    file_name = file.split('/')[-1]\n",
    "    # print directory name and file name separated by a colon\n",
    "    # replace . with _ in the directory name\n",
    "    dir_name_name = f'{dir_name.replace(\".\", \"_\")}'\n",
    "    # append the directory name and file name to the target directory and move .sql to end of file name\n",
    "    trg_file_name = f'{dir_name_name}_{file_name[:-4]}.sql'\n",
    "    # print trg_file_name\n",
    "    print(trg_file_name)\n",
    "    # copy src file to trg dir and file name \n",
    "    # # construct the full source and target file paths\n",
    "    src_file_path = file\n",
    "    trg_file_path = f'{trg_dir}/{trg_file_name}'\n",
    "    # copy the file\n",
    "    src_Path = Path(src_file_path)\n",
    "    trg_Path = Path(trg_file_path)\n",
    "    print(f'File copied from {src_file_path} to \\n{trg_file_path}')\n",
    "    src_Path.rename(trg_Path)\n",
    "    #print(f'File copied from {src_file_path} to {trg_file_path}')\n",
    "\n",
    "          \n",
    "\n"
   ]
  },
  {
   "cell_type": "code",
   "execution_count": null,
   "metadata": {},
   "outputs": [],
   "source": []
  }
 ],
 "metadata": {
  "kernelspec": {
   "display_name": "dbt-env",
   "language": "python",
   "name": "python3"
  },
  "language_info": {
   "codemirror_mode": {
    "name": "ipython",
    "version": 3
   },
   "file_extension": ".py",
   "mimetype": "text/x-python",
   "name": "python",
   "nbconvert_exporter": "python",
   "pygments_lexer": "ipython3",
   "version": "3.12.7"
  }
 },
 "nbformat": 4,
 "nbformat_minor": 2
}
