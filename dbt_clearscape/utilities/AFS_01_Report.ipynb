{
 "cells": [
  {
   "cell_type": "markdown",
   "metadata": {},
   "source": [
    "## AFS 01 - Sales Report\n",
    "\n",
    "This is a number of repors covering AFS_01 - A sales forecasting model using DBT and Clearscape\n",
    "\n",
    "\n",
    "Database hierarchy is\n",
    "CS01\n",
    "CS01_RAW\n",
    "CS01_RAW_VIEW\n",
    "CS01_TARGET\n",
    "CS01_TARGET_VIEW"
   ]
  },
  {
   "cell_type": "code",
   "execution_count": 1,
   "metadata": {},
   "outputs": [],
   "source": [
    "import teradatasql\n",
    "import yaml\n",
    "import sys\n",
    "import os\n",
    "import sqlparse\n",
    "import pandas as pd\n",
    "\n"
   ]
  },
  {
   "cell_type": "markdown",
   "metadata": {},
   "source": [
    "THis will get the DBT config so we can use the same logon"
   ]
  },
  {
   "cell_type": "code",
   "execution_count": 2,
   "metadata": {},
   "outputs": [],
   "source": [
    "# get home directory\n",
    "from os.path import expanduser\n",
    "import pprint\n",
    "home = expanduser(\"~\")\n",
    "# assume project is called dbt_clearscape\n",
    "project = 'dbt_clearscape'\n",
    "# read config file\n",
    "with open(home + '/.dbt/profiles.yml') as file:\n",
    "    config = yaml.load(file, Loader=yaml.FullLoader)\n",
    "# get project config\n",
    "if project not in config:\n",
    "    print('project not found in config file')\n",
    "project_config = config[project]\n",
    "# get target\n",
    "target = project_config['target']\n",
    "# get connection details\n",
    "project_connection = project_config['outputs'][target]\n",
    "#pprint.pprint(project_connection)\n"
   ]
  },
  {
   "cell_type": "markdown",
   "metadata": {},
   "source": [
    "This will connect to teradata using the DBT configuaration"
   ]
  },
  {
   "cell_type": "code",
   "execution_count": 4,
   "metadata": {},
   "outputs": [],
   "source": [
    "# connect to teradata\n",
    "conn = teradatasql.connect(host=project_connection['server'], user=project_connection['username'], password=project_connection['password'])    "
   ]
  },
  {
   "cell_type": "markdown",
   "metadata": {},
   "source": [
    "List all object in databases , any object in DB CS01% and table Prefixed with AFS_01"
   ]
  },
  {
   "cell_type": "code",
   "execution_count": null,
   "metadata": {},
   "outputs": [
    {
     "name": "stderr",
     "output_type": "stream",
     "text": [
      "C:\\Users\\cw171001\\AppData\\Local\\Temp\\ipykernel_29884\\1171293227.py:1: UserWarning: pandas only supports SQLAlchemy connectable (engine/connection) or database string URI or sqlite3 DBAPI2 connection. Other DBAPI2 objects are not tested. Please consider using SQLAlchemy.\n",
      "  df_tables = pd.read_sql(\"\"\"select databasename,tablename from dbc.tablesv where databasename  LIKE 'CS01%' and tablename LIKE 'AFS_01%' order by 1,2\"\"\", conn)\n"
     ]
    },
    {
     "data": {
      "text/html": [
       "<div>\n",
       "<style scoped>\n",
       "    .dataframe tbody tr th:only-of-type {\n",
       "        vertical-align: middle;\n",
       "    }\n",
       "\n",
       "    .dataframe tbody tr th {\n",
       "        vertical-align: top;\n",
       "    }\n",
       "\n",
       "    .dataframe thead th {\n",
       "        text-align: right;\n",
       "    }\n",
       "</style>\n",
       "<table border=\"1\" class=\"dataframe\">\n",
       "  <thead>\n",
       "    <tr style=\"text-align: right;\">\n",
       "      <th></th>\n",
       "      <th>DataBaseName</th>\n",
       "      <th>TableName</th>\n",
       "    </tr>\n",
       "  </thead>\n",
       "  <tbody>\n",
       "    <tr>\n",
       "      <th>0</th>\n",
       "      <td>CS01</td>\n",
       "      <td>AFS_01_Resample</td>\n",
       "    </tr>\n",
       "    <tr>\n",
       "      <th>1</th>\n",
       "      <td>CS01_TARGET</td>\n",
       "      <td>AFS_01_ArimaForecast</td>\n",
       "    </tr>\n",
       "    <tr>\n",
       "      <th>2</th>\n",
       "      <td>CS01_TARGET</td>\n",
       "      <td>AFS_01_AutoArima</td>\n",
       "    </tr>\n",
       "    <tr>\n",
       "      <th>3</th>\n",
       "      <td>CS01_TARGET</td>\n",
       "      <td>AFS_01_AutoArima_Forecast</td>\n",
       "    </tr>\n",
       "    <tr>\n",
       "      <th>4</th>\n",
       "      <td>CS01_TARGET</td>\n",
       "      <td>AFS_01_Dickey_Fuller_After</td>\n",
       "    </tr>\n",
       "    <tr>\n",
       "      <th>5</th>\n",
       "      <td>CS01_TARGET</td>\n",
       "      <td>AFS_01_Dickey_Fuller_Before</td>\n",
       "    </tr>\n",
       "    <tr>\n",
       "      <th>6</th>\n",
       "      <td>CS01_TARGET</td>\n",
       "      <td>AFS_01_Resample</td>\n",
       "    </tr>\n",
       "    <tr>\n",
       "      <th>7</th>\n",
       "      <td>CS01_TARGET</td>\n",
       "      <td>AFS_01_SalesData_Outlier</td>\n",
       "    </tr>\n",
       "    <tr>\n",
       "      <th>8</th>\n",
       "      <td>CS01_TARGET</td>\n",
       "      <td>AFS_01_SeasonalNormalize</td>\n",
       "    </tr>\n",
       "    <tr>\n",
       "      <th>9</th>\n",
       "      <td>CS01_TARGET_VIEW</td>\n",
       "      <td>AFS_01_ArimaARTFITRESIDUALS</td>\n",
       "    </tr>\n",
       "    <tr>\n",
       "      <th>10</th>\n",
       "      <td>CS01_TARGET_VIEW</td>\n",
       "      <td>AFS_01_AutoArima</td>\n",
       "    </tr>\n",
       "    <tr>\n",
       "      <th>11</th>\n",
       "      <td>CS01_TARGET_VIEW</td>\n",
       "      <td>AFS_01_AutoArima_FIT_RESIDUALS</td>\n",
       "    </tr>\n",
       "    <tr>\n",
       "      <th>12</th>\n",
       "      <td>CS01_TARGET_VIEW</td>\n",
       "      <td>AFS_01_Dickey_Fuller_After</td>\n",
       "    </tr>\n",
       "    <tr>\n",
       "      <th>13</th>\n",
       "      <td>CS01_TARGET_VIEW</td>\n",
       "      <td>AFS_01_Outlier_FIT</td>\n",
       "    </tr>\n",
       "    <tr>\n",
       "      <th>14</th>\n",
       "      <td>CS01_TARGET_VIEW</td>\n",
       "      <td>AFS_01_Resample</td>\n",
       "    </tr>\n",
       "    <tr>\n",
       "      <th>15</th>\n",
       "      <td>CS01_TARGET_VIEW</td>\n",
       "      <td>AFS_01_SeasonalNormalize</td>\n",
       "    </tr>\n",
       "  </tbody>\n",
       "</table>\n",
       "</div>"
      ],
      "text/plain": [
       "        DataBaseName                       TableName\n",
       "0               CS01                 AFS_01_Resample\n",
       "1        CS01_TARGET            AFS_01_ArimaForecast\n",
       "2        CS01_TARGET                AFS_01_AutoArima\n",
       "3        CS01_TARGET       AFS_01_AutoArima_Forecast\n",
       "4        CS01_TARGET      AFS_01_Dickey_Fuller_After\n",
       "5        CS01_TARGET     AFS_01_Dickey_Fuller_Before\n",
       "6        CS01_TARGET                 AFS_01_Resample\n",
       "7        CS01_TARGET        AFS_01_SalesData_Outlier\n",
       "8        CS01_TARGET        AFS_01_SeasonalNormalize\n",
       "9   CS01_TARGET_VIEW     AFS_01_ArimaARTFITRESIDUALS\n",
       "10  CS01_TARGET_VIEW                AFS_01_AutoArima\n",
       "11  CS01_TARGET_VIEW  AFS_01_AutoArima_FIT_RESIDUALS\n",
       "12  CS01_TARGET_VIEW      AFS_01_Dickey_Fuller_After\n",
       "13  CS01_TARGET_VIEW              AFS_01_Outlier_FIT\n",
       "14  CS01_TARGET_VIEW                 AFS_01_Resample\n",
       "15  CS01_TARGET_VIEW        AFS_01_SeasonalNormalize"
      ]
     },
     "execution_count": 7,
     "metadata": {},
     "output_type": "execute_result"
    }
   ],
   "source": [
    "df_tables = pd.read_sql(\"\"\"select databasename,tablename from dbc.tablesv where databasename  LIKE 'CS01%' and tablename LIKE 'AFS_01%' order by 1,2\"\"\", conn)\n",
    "df_tables"
   ]
  },
  {
   "cell_type": "code",
   "execution_count": null,
   "metadata": {},
   "outputs": [],
   "source": [
    "AFS_01_ArimaARTFITRESIDUALS\n",
    "AFS_01_AutoArima\n",
    "AFS_01_AutoArima_FIT_RESIDUALS\n",
    "AFS_01_Dickey_Fuller_After\n",
    "AFS_01_Outlier_FIT\n",
    "AFS_01_Resample\n",
    "AFS_01_SeasonalNormalize\n"
   ]
  },
  {
   "cell_type": "markdown",
   "metadata": {},
   "source": [
    "# Create all the database\n",
    "\n",
    "The databases are\n",
    "\n",
    "- CS01\n",
    "- CS01_RAW\n",
    "- CS01_RAW_VIEW\n",
    "- CS01_TARGET\n",
    "- CS01_TARGET_VIEW\n",
    "\n"
   ]
  },
  {
   "cell_type": "code",
   "execution_count": 5,
   "metadata": {},
   "outputs": [],
   "source": [
    "# TODO - setup parameterised db config\n",
    "db_list = {}\n",
    "db_list ['CS01'] = {'owner': {project_connection['username']},'space':0}\n",
    "db_list ['CS01_RAW'] = {'owner': 'CS01','space':0}\n",
    "db_list ['CS01_RAW_VIEW'] = {'owner': 'CS01','space':0}\n",
    "db_list ['CS01_TARGET'] = {'owner': 'CS01','space':10000}\n",
    "db_list ['CS01_TARGET_VIEW'] = {'owner': 'CS01','space':0}"
   ]
  },
  {
   "cell_type": "code",
   "execution_count": 9,
   "metadata": {},
   "outputs": [
    {
     "name": "stdout",
     "output_type": "stream",
     "text": [
      "0 CS01\n",
      "DELETE DATABASE CS01\n",
      "GIVE CS01 TO demo_user\n",
      "1 CS01_RAW\n",
      "DELETE DATABASE CS01_RAW\n",
      "GIVE CS01_RAW TO demo_user\n",
      "2 CS01_RAW_VIEW\n",
      "DELETE DATABASE CS01_RAW_VIEW\n",
      "GIVE CS01_RAW_VIEW TO demo_user\n",
      "3 CS01_TARGET\n",
      "DELETE DATABASE CS01_TARGET\n",
      "GIVE CS01_TARGET TO demo_user\n",
      "4 CS01_TARGET_VIEW\n",
      "DELETE DATABASE CS01_TARGET_VIEW\n",
      "GIVE CS01_TARGET_VIEW TO demo_user\n",
      "0 CS01\n",
      "DROP DATABASE CS01\n",
      "1 CS01_RAW\n",
      "DROP DATABASE CS01_RAW\n",
      "2 CS01_RAW_VIEW\n",
      "DROP DATABASE CS01_RAW_VIEW\n",
      "3 CS01_TARGET\n",
      "DROP DATABASE CS01_TARGET\n",
      "4 CS01_TARGET_VIEW\n",
      "DROP DATABASE CS01_TARGET_VIEW\n"
     ]
    }
   ],
   "source": [
    "# Delete and then drop all databases\n",
    "with conn.cursor() as csr:\n",
    "    for i,db in enumerate(db_list):\n",
    "        # It is sometime very slow in deleting databases so drop each table and view first\n",
    "        with conn.cursor() as csr2:\n",
    "            csr2.execute(f\"\"\"SELECT tablename FROM DBC.tablesv WHERE DATABASENAME = '{db}' AND tablekind in ('T','O')\"\"\")\n",
    "            # copy list of tables in table_list\n",
    "            table_list = csr2.fetchall()\n",
    "            for table in table_list:\n",
    "                print(f'DROP TABLE {db}.{table[0]}')\n",
    "                csr2.execute(f'DROP TABLE {db}.{table[0]}')\n",
    "            csr2.execute(f\"\"\"SELECT tablename FROM DBC.tablesv WHERE DATABASENAME = '{db}' AND tablekind in ('V')\"\"\")\n",
    "            # copy list of views in view_list\n",
    "            view_list = csr2.fetchall()\n",
    "            for view in view_list:\n",
    "                print(f'DROP VIEW {db}.{view[0]}')\n",
    "                csr2.execute(f'DROP VIEW {db}.{view[0]}')\n",
    "        print(i,db)\n",
    "        print(f'DELETE DATABASE {db}')\n",
    "        csr.execute(f'DELETE DATABASE {db}',ignoreErrors=[3807,3802])\n",
    "        print(f'GIVE {db} TO {project_connection[\"username\"]}')\n",
    "        csr.execute(f'GIVE {db} TO {project_connection['username']}',ignoreErrors=[3807,3802])\n",
    "with conn.cursor() as csr:\n",
    "    for i,db in enumerate(db_list):\n",
    "        print(i,db)\n",
    "        print(f'DROP DATABASE {db}')\n",
    "        csr.execute(f'DROP DATABASE {db}',ignoreErrors=[3807,3802])"
   ]
  },
  {
   "cell_type": "code",
   "execution_count": 10,
   "metadata": {},
   "outputs": [],
   "source": [
    "# TODO : Convert to a more parameteris version"
   ]
  },
  {
   "cell_type": "code",
   "execution_count": 11,
   "metadata": {},
   "outputs": [
    {
     "name": "stdout",
     "output_type": "stream",
     "text": [
      "Database created\n",
      "Comment added\n"
     ]
    }
   ],
   "source": [
    "sql = f\"CREATE DATABASE CS01 FROM {project_connection['username']} AS PERM=0\"\n",
    "with conn.cursor() as cur:\n",
    "    cur.execute(sql, ignoreErrors=[5612])\n",
    "    print('Database created')\n",
    "    cur.execute(\"COMMENT ON CS01 AS 'Base database for Clearscape'\")\n",
    "    print('Comment added')"
   ]
  },
  {
   "cell_type": "code",
   "execution_count": 12,
   "metadata": {},
   "outputs": [
    {
     "name": "stdout",
     "output_type": "stream",
     "text": [
      "Database created\n",
      "Comment added\n"
     ]
    }
   ],
   "source": [
    "sql = f\"CREATE DATABASE CS01_RAW FROM CS01 AS PERM=0\"\n",
    "with conn.cursor() as cur:\n",
    "    cur.execute(sql, ignoreErrors=[5612])\n",
    "    print('Database created')\n",
    "    cur.execute(\"COMMENT ON CS01_RAW AS 'raw database for Clearscape'\")\n",
    "    print('Comment added')"
   ]
  },
  {
   "cell_type": "code",
   "execution_count": 13,
   "metadata": {},
   "outputs": [
    {
     "name": "stdout",
     "output_type": "stream",
     "text": [
      "Database created\n",
      "Comment added\n"
     ]
    }
   ],
   "source": [
    "sql = f\"CREATE DATABASE CS01_RAW_VIEW FROM CS01 AS PERM=0\"\n",
    "with conn.cursor() as cur:\n",
    "    cur.execute(sql, ignoreErrors=[5612])\n",
    "    print('Database created')\n",
    "    cur.execute(\"COMMENT ON CS01_RAW_VIEW AS 'raw database for Clearscape'\")\n",
    "    print('Comment added')"
   ]
  },
  {
   "cell_type": "code",
   "execution_count": 14,
   "metadata": {},
   "outputs": [
    {
     "name": "stdout",
     "output_type": "stream",
     "text": [
      "Database created\n",
      "Comment added\n"
     ]
    }
   ],
   "source": [
    "sql = f\"CREATE DATABASE CS01_TARGET FROM CS01 AS PERM=0\"\n",
    "with conn.cursor() as cur:\n",
    "    cur.execute(sql, ignoreErrors=[5612])\n",
    "    print('Database created')\n",
    "    cur.execute(\"COMMENT ON CS01_TARGET AS 'target database for Clearscape'\")\n",
    "    print('Comment added')"
   ]
  },
  {
   "cell_type": "code",
   "execution_count": 15,
   "metadata": {},
   "outputs": [
    {
     "name": "stdout",
     "output_type": "stream",
     "text": [
      "Database created\n",
      "Comment added\n"
     ]
    }
   ],
   "source": [
    "sql = f\"CREATE DATABASE CS01_TARGET_VIEW FROM CS01 AS PERM=0\"\n",
    "with conn.cursor() as cur:\n",
    "    cur.execute(sql, ignoreErrors=[5612])\n",
    "    print('Database created')\n",
    "    cur.execute(\"COMMENT ON CS01_TARGET_VIEW AS 'target database for Clearscape'\")\n",
    "    print('Comment added')"
   ]
  },
  {
   "cell_type": "code",
   "execution_count": 17,
   "metadata": {},
   "outputs": [
    {
     "name": "stdout",
     "output_type": "stream",
     "text": [
      "Grant created\n",
      "Grant created\n",
      "Grant created\n",
      "Grant created\n",
      "Grant created\n"
     ]
    }
   ],
   "source": [
    "# grant intra database access\n",
    "sql = f\"GRANT SELECT, INSERT, UPDATE, DELETE ON CS01_RAW TO CS01_RAW_VIEW WITH GRANT OPTION\"\n",
    "with conn.cursor() as cur:\n",
    "    cur.execute(sql)\n",
    "    print('Grant created')\n",
    "\n",
    "sql = f\"GRANT SELECT, INSERT, UPDATE, DELETE ON CS01_TARGET TO CS01_TARGET_VIEW WITH GRANT OPTION\"\n",
    "with conn.cursor() as cur:\n",
    "    cur.execute(sql)\n",
    "    print('Grant created')\n",
    "\n",
    "sql = f\"GRANT SELECT, INSERT, UPDATE, DELETE ON CS01_RAW_VIEW TO CS01_TARGET_VIEW WITH GRANT OPTION\"\n",
    "with conn.cursor() as cur:\n",
    "    cur.execute(sql)\n",
    "    print('Grant created')\n",
    "\n",
    "# dbc access\n",
    "sql = f\"GRANT SELECT ON DBC TO CS01_RAW_VIEW WITH GRANT OPTION\"\n",
    "with conn.cursor() as cur:\n",
    "    cur.execute(sql)\n",
    "    print('Grant created')\n",
    "\n",
    "\n",
    "# val access\n",
    "sql = f\"GRANT SELECT ON VAL TO CS01_RAW  WITH GRANT OPTION\"\n",
    "with conn.cursor() as cur:\n",
    "    cur.execute(sql)\n",
    "    print('Grant created')\n"
   ]
  },
  {
   "cell_type": "markdown",
   "metadata": {},
   "source": [
    "Allocate space for the databases"
   ]
  },
  {
   "cell_type": "code",
   "execution_count": 18,
   "metadata": {},
   "outputs": [],
   "source": [
    "with conn.cursor() as csr:\n",
    "    # drop space database if it exists\n",
    "    csr.execute('DROP DATABASE CS01_SPACE',ignoreErrors = [3802])\n",
    "    # create space data with space\n",
    "    csr.execute(f'CREATE DATABASE CS01_SPACE FROM {project_connection['username']}  AS PERM=200000000 ')\n",
    "    # give space to database\n",
    "    csr.execute(f'GIVE CS01_SPACE TO CS01_RAW')\n",
    "    # drop space\n",
    "    csr.execute('DROP DATABASE CS01_SPACE',ignoreErrors = [])"
   ]
  },
  {
   "cell_type": "code",
   "execution_count": 19,
   "metadata": {},
   "outputs": [],
   "source": [
    "with conn.cursor() as csr:\n",
    "    # drop space database if it exists\n",
    "    csr.execute('DROP DATABASE CS01_SPACE',ignoreErrors = [3802])\n",
    "    # create space data with space\n",
    "    csr.execute(f'CREATE DATABASE CS01_SPACE FROM {project_connection['username']}  AS PERM=200000000 ')\n",
    "    # give space to database\n",
    "    csr.execute(f'GIVE CS01_SPACE TO CS01_TARGET')\n",
    "    # drop space\n",
    "    csr.execute('DROP DATABASE CS01_SPACE',ignoreErrors = [])"
   ]
  }
 ],
 "metadata": {
  "kernelspec": {
   "display_name": "dbt-env",
   "language": "python",
   "name": "python3"
  },
  "language_info": {
   "codemirror_mode": {
    "name": "ipython",
    "version": 3
   },
   "file_extension": ".py",
   "mimetype": "text/x-python",
   "name": "python",
   "nbconvert_exporter": "python",
   "pygments_lexer": "ipython3",
   "version": "3.12.7"
  }
 },
 "nbformat": 4,
 "nbformat_minor": 2
}
