{
 "cells": [
  {
   "cell_type": "code",
   "execution_count": 3,
   "metadata": {},
   "outputs": [],
   "source": [
    "import teradatasql\n",
    "import yaml\n",
    "import sys\n",
    "import os\n",
    "import sqlparse\n",
    "import pandas as pd\n",
    "\n"
   ]
  },
  {
   "cell_type": "markdown",
   "metadata": {},
   "source": [
    "This will get the dbt config parameters"
   ]
  },
  {
   "cell_type": "code",
   "execution_count": 4,
   "metadata": {},
   "outputs": [],
   "source": [
    "# get home directory\n",
    "from os.path import expanduser\n",
    "import pprint\n",
    "home = expanduser(\"~\")\n",
    "# assume project is called dbt_clearscape\n",
    "project = 'dbt_clearscape'\n",
    "# read config file\n",
    "with open(home + '/.dbt/profiles.yml') as file:\n",
    "    config = yaml.load(file, Loader=yaml.FullLoader)\n",
    "# get project config\n",
    "if project not in config:\n",
    "    print('project not found in config file')\n",
    "project_config = config[project]\n",
    "# get target\n",
    "target = project_config['target']\n",
    "# get connection details\n",
    "project_connection = project_config['outputs'][target]\n",
    "#pprint.pprint(project_connection)\n"
   ]
  },
  {
   "cell_type": "markdown",
   "metadata": {},
   "source": [
    "Connect to teradata"
   ]
  },
  {
   "cell_type": "code",
   "execution_count": 5,
   "metadata": {},
   "outputs": [],
   "source": [
    "# connect to teradata\n",
    "conn = teradatasql.connect(host=project_connection['server'], user=project_connection['username'], password=project_connection['password'])    "
   ]
  },
  {
   "cell_type": "markdown",
   "metadata": {},
   "source": [
    "Test by loading dataframe"
   ]
  },
  {
   "cell_type": "code",
   "execution_count": 7,
   "metadata": {},
   "outputs": [
    {
     "name": "stderr",
     "output_type": "stream",
     "text": [
      "C:\\Users\\cw171001\\AppData\\Local\\Temp\\ipykernel_3440\\504767045.py:10: UserWarning: pandas only supports SQLAlchemy connectable (engine/connection) or database string URI or sqlite3 DBAPI2 connection. Other DBAPI2 objects are not tested. Please consider using SQLAlchemy.\n",
      "  df = pd.read_sql(query, conn)\n"
     ]
    },
    {
     "data": {
      "text/html": [
       "<div>\n",
       "<style scoped>\n",
       "    .dataframe tbody tr th:only-of-type {\n",
       "        vertical-align: middle;\n",
       "    }\n",
       "\n",
       "    .dataframe tbody tr th {\n",
       "        vertical-align: top;\n",
       "    }\n",
       "\n",
       "    .dataframe thead th {\n",
       "        text-align: right;\n",
       "    }\n",
       "</style>\n",
       "<table border=\"1\" class=\"dataframe\">\n",
       "  <thead>\n",
       "    <tr style=\"text-align: right;\">\n",
       "      <th></th>\n",
       "      <th>DatabaseName</th>\n",
       "      <th>CurrentPerm</th>\n",
       "      <th>MaxPerm</th>\n",
       "      <th>FreePeam</th>\n",
       "    </tr>\n",
       "  </thead>\n",
       "  <tbody>\n",
       "    <tr>\n",
       "      <th>0</th>\n",
       "      <td>demo_user</td>\n",
       "      <td>18</td>\n",
       "      <td>28236</td>\n",
       "      <td>28217</td>\n",
       "    </tr>\n",
       "    <tr>\n",
       "      <th>1</th>\n",
       "      <td>DEMO_DemandForecast_db</td>\n",
       "      <td>19</td>\n",
       "      <td>2442</td>\n",
       "      <td>2423</td>\n",
       "    </tr>\n",
       "    <tr>\n",
       "      <th>2</th>\n",
       "      <td>DBC</td>\n",
       "      <td>190</td>\n",
       "      <td>1463</td>\n",
       "      <td>1273</td>\n",
       "    </tr>\n",
       "    <tr>\n",
       "      <th>3</th>\n",
       "      <td>modelops</td>\n",
       "      <td>0</td>\n",
       "      <td>953</td>\n",
       "      <td>952</td>\n",
       "    </tr>\n",
       "    <tr>\n",
       "      <th>4</th>\n",
       "      <td>SYSBAR</td>\n",
       "      <td>0</td>\n",
       "      <td>610</td>\n",
       "      <td>610</td>\n",
       "    </tr>\n",
       "    <tr>\n",
       "      <th>5</th>\n",
       "      <td>SYSLIB</td>\n",
       "      <td>21</td>\n",
       "      <td>610</td>\n",
       "      <td>588</td>\n",
       "    </tr>\n",
       "    <tr>\n",
       "      <th>6</th>\n",
       "      <td>SYSUDTLIB</td>\n",
       "      <td>2</td>\n",
       "      <td>488</td>\n",
       "      <td>485</td>\n",
       "    </tr>\n",
       "    <tr>\n",
       "      <th>7</th>\n",
       "      <td>TDBCMgmt</td>\n",
       "      <td>0</td>\n",
       "      <td>476</td>\n",
       "      <td>476</td>\n",
       "    </tr>\n",
       "    <tr>\n",
       "      <th>8</th>\n",
       "      <td>val</td>\n",
       "      <td>57</td>\n",
       "      <td>476</td>\n",
       "      <td>419</td>\n",
       "    </tr>\n",
       "    <tr>\n",
       "      <th>9</th>\n",
       "      <td>External_AP</td>\n",
       "      <td>0</td>\n",
       "      <td>305</td>\n",
       "      <td>305</td>\n",
       "    </tr>\n",
       "  </tbody>\n",
       "</table>\n",
       "</div>"
      ],
      "text/plain": [
       "             DatabaseName  CurrentPerm  MaxPerm  FreePeam\n",
       "0               demo_user           18    28236     28217\n",
       "1  DEMO_DemandForecast_db           19     2442      2423\n",
       "2                     DBC          190     1463      1273\n",
       "3                modelops            0      953       952\n",
       "4                  SYSBAR            0      610       610\n",
       "5                  SYSLIB           21      610       588\n",
       "6               SYSUDTLIB            2      488       485\n",
       "7                TDBCMgmt            0      476       476\n",
       "8                     val           57      476       419\n",
       "9             External_AP            0      305       305"
      ]
     },
     "execution_count": 7,
     "metadata": {},
     "output_type": "execute_result"
    }
   ],
   "source": [
    "# Define your query\n",
    "query = \"\"\"SELECT databasename\n",
    "  ,sum(currentperm)/1024**2(BIGINT) CurrentPerm \n",
    "  ,sum(maxperm)/1024**2(BIGINT) MaxPerm\n",
    "  ,(sum(maxperm) - sum(currentperm))/1024**2(BIGINT)  AS FreePeam\n",
    "FROM dbc.diskspacev \n",
    "GROUP BY 1\n",
    "ORDER BY 4 DESC \"\"\"\n",
    "\n",
    "df = pd.read_sql(query, conn)\n",
    "df.head(10)"
   ]
  }
 ],
 "metadata": {
  "kernelspec": {
   "display_name": "dbt-env",
   "language": "python",
   "name": "python3"
  },
  "language_info": {
   "codemirror_mode": {
    "name": "ipython",
    "version": 3
   },
   "file_extension": ".py",
   "mimetype": "text/x-python",
   "name": "python",
   "nbconvert_exporter": "python",
   "pygments_lexer": "ipython3",
   "version": "3.12.7"
  }
 },
 "nbformat": 4,
 "nbformat_minor": 2
}
