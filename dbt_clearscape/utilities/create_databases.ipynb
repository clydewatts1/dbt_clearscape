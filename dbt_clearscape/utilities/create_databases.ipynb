{
 "cells": [
  {
   "cell_type": "markdown",
   "metadata": {},
   "source": [
    "# Create databases\n",
    "\n",
    "This will create databases from root schema for testing clearscape analytics\n",
    "\n",
    "Database hierarchy is\n",
    "CS01\n",
    "CS01_RAW\n",
    "CS01_RAW_VIEW\n",
    "CS01_TARGET\n",
    "CS01_TARGET_VIEW"
   ]
  },
  {
   "cell_type": "code",
   "execution_count": 2,
   "metadata": {},
   "outputs": [],
   "source": [
    "import teradatasql\n",
    "import yaml\n",
    "import sys\n",
    "import os\n",
    "import sqlparse\n",
    "import pandas as pd\n",
    "\n"
   ]
  },
  {
   "cell_type": "code",
   "execution_count": 3,
   "metadata": {},
   "outputs": [],
   "source": [
    "# get home directory\n",
    "from os.path import expanduser\n",
    "import pprint\n",
    "home = expanduser(\"~\")\n",
    "# assume project is called dbt_clearscape\n",
    "project = 'dbt_clearscape'\n",
    "# read config file\n",
    "with open(home + '/.dbt/profiles.yml') as file:\n",
    "    config = yaml.load(file, Loader=yaml.FullLoader)\n",
    "# get project config\n",
    "if project not in config:\n",
    "    print('project not found in config file')\n",
    "project_config = config[project]\n",
    "# get target\n",
    "target = project_config['target']\n",
    "# get connection details\n",
    "project_connection = project_config['outputs'][target]\n",
    "#pprint.pprint(project_connection)\n"
   ]
  },
  {
   "cell_type": "code",
   "execution_count": 4,
   "metadata": {},
   "outputs": [],
   "source": [
    "# connect to teradata\n",
    "conn = teradatasql.connect(host=project_connection['server'], user=project_connection['username'], password=project_connection['password'])    "
   ]
  },
  {
   "cell_type": "markdown",
   "metadata": {},
   "source": [
    "Connect to database"
   ]
  },
  {
   "cell_type": "code",
   "execution_count": 5,
   "metadata": {},
   "outputs": [],
   "source": [
    "# connect to teradata\n",
    "conn = teradatasql.connect(host=project_connection['server'], user=project_connection['username'], password=project_connection['password'])    "
   ]
  },
  {
   "cell_type": "markdown",
   "metadata": {},
   "source": [
    "# Create all the database\n",
    "\n",
    "The databases are\n",
    "\n",
    "- CS01\n",
    "- CS01_RAW\n",
    "- CS01_RAW_VIEW\n",
    "- CS01_TARGET\n",
    "- CS01_TARGET_VIEW\n",
    "\n"
   ]
  },
  {
   "cell_type": "code",
   "execution_count": 6,
   "metadata": {},
   "outputs": [],
   "source": [
    "# TODO - setup parameterised db config\n",
    "db_list = {}\n",
    "db_list ['CS01'] = {'owner': {project_connection['username']},'space':0}\n",
    "db_list ['CS01_RAW'] = {'owner': 'CS01','space':0}\n",
    "db_list ['CS01_RAW_VIEW'] = {'owner': 'CS01','space':0}\n",
    "db_list ['CS01_TARGET'] = {'owner': 'CS01','space':10000}\n",
    "db_list ['CS01_TARGET_VIEW'] = {'owner': 'CS01','space':0}"
   ]
  },
  {
   "cell_type": "code",
   "execution_count": null,
   "metadata": {},
   "outputs": [],
   "source": [
    "# Delete and then drop all databases\n",
    "with conn.cursor() as csr:\n",
    "    for i,db in enumerate(db_list):\n",
    "        # It is sometime very slow in deleting databases so drop each table and view first\n",
    "        with conn.cursor() as csr2:\n",
    "            csr2.execute(f\"\"\"SELECT tablename FROM DBC.tablesv WHERE DATABASENAME = '{db}' AND tablekind in ('T','O')\"\"\")\n",
    "            # copy list of tables in table_list\n",
    "            table_list = csr2.fetchall()\n",
    "            for table in table_list:\n",
    "                print(f'DROP TABLE {db}.{table[0]}')\n",
    "                csr2.execute(f'DROP TABLE {db}.{table[0]}')\n",
    "            csr2.execute(f\"\"\"SELECT tablename FROM DBC.tablesv WHERE DATABASENAME = '{db}' AND tablekind in ('V')\"\"\")\n",
    "            # copy list of views in view_list\n",
    "            view_list = csr2.fetchall()\n",
    "            for view in view_list:\n",
    "                print(f'DROP VIEW {db}.{view[0]}')\n",
    "                csr2.execute(f'DROP VIEW {db}.{view[0]}')\n",
    "        print(i,db)\n",
    "        print(f'DELETE DATABASE {db}')\n",
    "        csr.execute(f'DELETE DATABASE {db}')\n",
    "        print(f'GIVE {db} TO {project_connection[\"username\"]}')\n",
    "        csr.execute(f'GIVE {db} TO {project_connection['username']}')\n",
    "with conn.cursor() as csr:\n",
    "    for i,db in enumerate(db_list):\n",
    "        print(i,db)\n",
    "        print(f'DROP DATABASE {db}')\n",
    "        csr.execute(f'DROP DATABASE {db}')"
   ]
  },
  {
   "cell_type": "code",
   "execution_count": 25,
   "metadata": {},
   "outputs": [],
   "source": [
    "# TODO : Convert to a more parameteris version"
   ]
  },
  {
   "cell_type": "code",
   "execution_count": null,
   "metadata": {},
   "outputs": [],
   "source": [
    "sql = f\"CREATE DATABASE CS01 FROM {project_connection['username']} AS PERM=0\"\n",
    "with conn.cursor() as cur:\n",
    "    cur.execute(sql, ignoreErrors=[5612])\n",
    "    print('Database created')\n",
    "    cur.execute(\"COMMENT ON CS01 AS 'Base database for Clearscape'\")\n",
    "    print('Comment added')"
   ]
  },
  {
   "cell_type": "code",
   "execution_count": null,
   "metadata": {},
   "outputs": [],
   "source": [
    "sql = f\"CREATE DATABASE CS01_RAW FROM CS01 AS PERM=0\"\n",
    "with conn.cursor() as cur:\n",
    "    cur.execute(sql, ignoreErrors=[5612])\n",
    "    print('Database created')\n",
    "    cur.execute(\"COMMENT ON CS01_RAW AS 'raw database for Clearscape'\")\n",
    "    print('Comment added')"
   ]
  },
  {
   "cell_type": "code",
   "execution_count": null,
   "metadata": {},
   "outputs": [],
   "source": [
    "sql = f\"CREATE DATABASE CS01_RAW_VIEW FROM CS01 AS PERM=0\"\n",
    "with conn.cursor() as cur:\n",
    "    cur.execute(sql, ignoreErrors=[5612])\n",
    "    print('Database created')\n",
    "    cur.execute(\"COMMENT ON CS01_RAW_VIEW AS 'raw database for Clearscape'\")\n",
    "    print('Comment added')"
   ]
  },
  {
   "cell_type": "code",
   "execution_count": null,
   "metadata": {},
   "outputs": [],
   "source": [
    "sql = f\"CREATE DATABASE CS01_TARGET FROM CS01 AS PERM=0\"\n",
    "with conn.cursor() as cur:\n",
    "    cur.execute(sql, ignoreErrors=[5612])\n",
    "    print('Database created')\n",
    "    cur.execute(\"COMMENT ON CS01_TARGET AS 'target database for Clearscape'\")\n",
    "    print('Comment added')"
   ]
  },
  {
   "cell_type": "code",
   "execution_count": null,
   "metadata": {},
   "outputs": [],
   "source": [
    "sql = f\"CREATE DATABASE CS01_TARGET_VIEW FROM CS01 AS PERM=0\"\n",
    "with conn.cursor() as cur:\n",
    "    cur.execute(sql, ignoreErrors=[5612])\n",
    "    print('Database created')\n",
    "    cur.execute(\"COMMENT ON CS01_TARGET_VIEW AS 'target database for Clearscape'\")\n",
    "    print('Comment added')"
   ]
  },
  {
   "cell_type": "code",
   "execution_count": null,
   "metadata": {},
   "outputs": [],
   "source": [
    "# grant intra database access\n",
    "sql = f\"GRANT SELECT, INSERT, UPDATE, DELETE ON CS01_RAW TO CS01_RAW_VIEW WITH GRANT OPTION\"\n",
    "with conn.cursor() as cur:\n",
    "    cur.execute(sql)\n",
    "    print('Grant created')\n",
    "\n",
    "sql = f\"GRANT SELECT, INSERT, UPDATE, DELETE ON CS01_TARGET TO CS01_TARGET_VIEW WITH GRANT OPTION\"\n",
    "with conn.cursor() as cur:\n",
    "    cur.execute(sql)\n",
    "    print('Grant created')\n",
    "\n",
    "sql = f\"GRANT SELECT, INSERT, UPDATE, DELETE ON CS01_RAW_VIEW TO CS01_TARGET_VIEW WITH GRANT OPTION\"\n",
    "with conn.cursor() as cur:\n",
    "    cur.execute(sql)\n",
    "    print('Grant created')\n",
    "\n",
    "# dbc access\n",
    "sql = f\"GRANT SELECT ON DBC TO CS01_RAW _VIEW WITH GRANT OPTION\"\n",
    "with conn.cursor() as cur:\n",
    "    cur.execute(sql)\n",
    "    print('Grant created')\n",
    "\n",
    "\n",
    "# val access\n",
    "sql = f\"GRANT SELECT ON VAL TO CS01_RAW _VIEW WITH GRANT OPTION\"\n",
    "with conn.cursor() as cur:\n",
    "    cur.execute(sql)\n",
    "    print('Grant created')\n"
   ]
  },
  {
   "cell_type": "markdown",
   "metadata": {},
   "source": [
    "Allocate space for the databases"
   ]
  },
  {
   "cell_type": "code",
   "execution_count": 32,
   "metadata": {},
   "outputs": [],
   "source": [
    "with conn.cursor() as csr:\n",
    "    # drop space database if it exists\n",
    "    csr.execute('DROP DATABASE CS01_SPACE',ignoreErrors = [3802])\n",
    "    # create space data with space\n",
    "    csr.execute(f'CREATE DATABASE CS01_SPACE FROM {project_connection['username']}  AS PERM=100000000 ')\n",
    "    # give space to database\n",
    "    csr.execute(f'GIVE CS01_SPACE TO CS01_RAW')\n",
    "    # drop space\n",
    "    csr.execute('DROP DATABASE CS01_SPACE',ignoreErrors = [])"
   ]
  },
  {
   "cell_type": "code",
   "execution_count": 33,
   "metadata": {},
   "outputs": [],
   "source": [
    "with conn.cursor() as csr:\n",
    "    # drop space database if it exists\n",
    "    csr.execute('DROP DATABASE CS01_SPACE',ignoreErrors = [3802])\n",
    "    # create space data with space\n",
    "    csr.execute(f'CREATE DATABASE CS01_SPACE FROM {project_connection['username']}  AS PERM=100000000 ')\n",
    "    # give space to database\n",
    "    csr.execute(f'GIVE CS01_SPACE TO CS01_TARGET')\n",
    "    # drop space\n",
    "    csr.execute('DROP DATABASE CS01_SPACE',ignoreErrors = [])"
   ]
  }
 ],
 "metadata": {
  "kernelspec": {
   "display_name": "dbt-env",
   "language": "python",
   "name": "python3"
  },
  "language_info": {
   "codemirror_mode": {
    "name": "ipython",
    "version": 3
   },
   "file_extension": ".py",
   "mimetype": "text/x-python",
   "name": "python",
   "nbconvert_exporter": "python",
   "pygments_lexer": "ipython3",
   "version": "3.12.7"
  }
 },
 "nbformat": 4,
 "nbformat_minor": 2
}
