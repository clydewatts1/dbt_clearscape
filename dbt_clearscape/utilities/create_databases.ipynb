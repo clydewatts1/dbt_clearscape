{
 "cells": [
  {
   "cell_type": "markdown",
   "metadata": {},
   "source": [
    "# Create databases\n",
    "\n",
    "This will create databases from root schema for testing clearscape analytics\n",
    "\n",
    "Database hierarchy is\n",
    "CS01\n",
    "CS01_RAW\n",
    "CS01_RAW_VIEW\n",
    "CS01_TARGET\n",
    "CS01_TARGET_VIEW"
   ]
  },
  {
   "cell_type": "code",
   "execution_count": 22,
   "metadata": {},
   "outputs": [],
   "source": [
    "import teradatasql\n",
    "import yaml\n",
    "import sys\n",
    "import os\n",
    "import sqlparse\n",
    "import pandas as pd\n",
    "\n"
   ]
  },
  {
   "cell_type": "code",
   "execution_count": 23,
   "metadata": {},
   "outputs": [],
   "source": [
    "# get home directory\n",
    "from os.path import expanduser\n",
    "import pprint\n",
    "home = expanduser(\"~\")\n",
    "# assume project is called dbt_clearscape\n",
    "project = 'dbt_clearscape'\n",
    "# read config file\n",
    "with open(home + '/.dbt/profiles.yml') as file:\n",
    "    config = yaml.load(file, Loader=yaml.FullLoader)\n",
    "# get project config\n",
    "if project not in config:\n",
    "    print('project not found in config file')\n",
    "project_config = config[project]\n",
    "# get target\n",
    "target = project_config['target']\n",
    "# get connection details\n",
    "project_connection = project_config['outputs'][target]\n",
    "#pprint.pprint(project_connection)\n"
   ]
  },
  {
   "cell_type": "code",
   "execution_count": 24,
   "metadata": {},
   "outputs": [],
   "source": [
    "# connect to teradata\n",
    "conn = teradatasql.connect(host=project_connection['server'], user=project_connection['username'], password=project_connection['password'])    "
   ]
  },
  {
   "cell_type": "code",
   "execution_count": 25,
   "metadata": {},
   "outputs": [
    {
     "name": "stdout",
     "output_type": "stream",
     "text": [
      "Database created\n",
      "Comment added\n"
     ]
    }
   ],
   "source": [
    "sql = f\"CREATE DATABASE CS01 FROM {project_connection['username']} AS PERM=0\"\n",
    "with conn.cursor() as cur:\n",
    "    cur.execute(sql, ignoreErrors=[5612])\n",
    "    print('Database created')\n",
    "    cur.execute(\"COMMENT ON CS01 AS 'Base database for Clearscape'\")\n",
    "    print('Comment added')"
   ]
  },
  {
   "cell_type": "code",
   "execution_count": 26,
   "metadata": {},
   "outputs": [
    {
     "name": "stdout",
     "output_type": "stream",
     "text": [
      "Database created\n",
      "Comment added\n"
     ]
    }
   ],
   "source": [
    "sql = f\"CREATE DATABASE CS01_RAW FROM CS01 AS PERM=0\"\n",
    "with conn.cursor() as cur:\n",
    "    cur.execute(sql, ignoreErrors=[5612])\n",
    "    print('Database created')\n",
    "    cur.execute(\"COMMENT ON CS01_RAW AS 'raw database for Clearscape'\")\n",
    "    print('Comment added')"
   ]
  },
  {
   "cell_type": "code",
   "execution_count": 27,
   "metadata": {},
   "outputs": [
    {
     "name": "stdout",
     "output_type": "stream",
     "text": [
      "Database created\n",
      "Comment added\n"
     ]
    }
   ],
   "source": [
    "sql = f\"CREATE DATABASE CS01_RAW_VIEW FROM CS01 AS PERM=0\"\n",
    "with conn.cursor() as cur:\n",
    "    cur.execute(sql, ignoreErrors=[5612])\n",
    "    print('Database created')\n",
    "    cur.execute(\"COMMENT ON CS01_RAW_VIEW AS 'raw database for Clearscape'\")\n",
    "    print('Comment added')"
   ]
  },
  {
   "cell_type": "code",
   "execution_count": 28,
   "metadata": {},
   "outputs": [
    {
     "name": "stdout",
     "output_type": "stream",
     "text": [
      "Database created\n",
      "Comment added\n"
     ]
    }
   ],
   "source": [
    "sql = f\"CREATE DATABASE CS01_TARGET FROM CS01 AS PERM=0\"\n",
    "with conn.cursor() as cur:\n",
    "    cur.execute(sql, ignoreErrors=[5612])\n",
    "    print('Database created')\n",
    "    cur.execute(\"COMMENT ON CS01_TARGET AS 'target database for Clearscape'\")\n",
    "    print('Comment added')"
   ]
  },
  {
   "cell_type": "code",
   "execution_count": 29,
   "metadata": {},
   "outputs": [
    {
     "name": "stdout",
     "output_type": "stream",
     "text": [
      "Database created\n",
      "Comment added\n"
     ]
    }
   ],
   "source": [
    "sql = f\"CREATE DATABASE CS01_TARGET_VIEW FROM CS01 AS PERM=0\"\n",
    "with conn.cursor() as cur:\n",
    "    cur.execute(sql, ignoreErrors=[5612])\n",
    "    print('Database created')\n",
    "    cur.execute(\"COMMENT ON CS01_TARGET_VIEW AS 'target database for Clearscape'\")\n",
    "    print('Comment added')"
   ]
  },
  {
   "cell_type": "code",
   "execution_count": 30,
   "metadata": {},
   "outputs": [
    {
     "name": "stdout",
     "output_type": "stream",
     "text": [
      "Grant created\n",
      "Grant created\n"
     ]
    }
   ],
   "source": [
    "# grant intra database access\n",
    "sql = f\"GRANT SELECT, INSERT, UPDATE, DELETE ON CS01_RAW TO CS01_RAW_VIEW WITH GRANT OPTION\"\n",
    "with conn.cursor() as cur:\n",
    "    cur.execute(sql)\n",
    "    print('Grant created')\n",
    "\n",
    "sql = f\"GRANT SELECT, INSERT, UPDATE, DELETE ON CS01_TARGET TO CS01_TARGET_VIEW WITH GRANT OPTION\"\n",
    "with conn.cursor() as cur:\n",
    "    cur.execute(sql)\n",
    "    print('Grant created')\n",
    "\n",
    "# dbc access\n",
    "sql = f\"GRANT SELECT ON DBC.Databases TO CS01_RAW_VIEW WITH GRANT OPTION\"\n",
    "with conn.cursor() as cur:\n",
    "    cur.execute(sql)\n",
    "    print('Grant created')\n",
    "\n"
   ]
  }
 ],
 "metadata": {
  "kernelspec": {
   "display_name": "dbt-env",
   "language": "python",
   "name": "python3"
  },
  "language_info": {
   "codemirror_mode": {
    "name": "ipython",
    "version": 3
   },
   "file_extension": ".py",
   "mimetype": "text/x-python",
   "name": "python",
   "nbconvert_exporter": "python",
   "pygments_lexer": "ipython3",
   "version": "3.12.7"
  }
 },
 "nbformat": 4,
 "nbformat_minor": 2
}
