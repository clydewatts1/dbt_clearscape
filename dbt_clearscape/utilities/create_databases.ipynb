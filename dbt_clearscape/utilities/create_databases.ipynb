{
 "cells": [
  {
   "cell_type": "markdown",
   "metadata": {},
   "source": [
    "# Create databases\n",
    "\n",
    "This will create databases from root schema for testing clearscape analytics\n",
    "\n",
    "Database hierarchy is\n",
    "CS01\n",
    "CS01_RAW\n",
    "CS01_RAW_VIEW\n",
    "CS01_TARGET\n",
    "CS01_TARGET_VIEW"
   ]
  },
  {
   "cell_type": "code",
   "execution_count": 17,
   "metadata": {},
   "outputs": [],
   "source": [
    "import teradatasql\n",
    "import yaml\n",
    "import sys\n",
    "import os\n",
    "import sqlparse\n",
    "import pandas as pd\n",
    "\n"
   ]
  },
  {
   "cell_type": "code",
   "execution_count": 18,
   "metadata": {},
   "outputs": [],
   "source": [
    "# get home directory\n",
    "from os.path import expanduser\n",
    "import pprint\n",
    "home = expanduser(\"~\")\n",
    "# assume project is called dbt_clearscape\n",
    "project = 'dbt_clearscape'\n",
    "# read config file\n",
    "with open(home + '/.dbt/profiles.yml') as file:\n",
    "    config = yaml.load(file, Loader=yaml.FullLoader)\n",
    "# get project config\n",
    "if project not in config:\n",
    "    print('project not found in config file')\n",
    "project_config = config[project]\n",
    "# get target\n",
    "target = project_config['target']\n",
    "# get connection details\n",
    "project_connection = project_config['outputs'][target]\n",
    "#pprint.pprint(project_connection)\n"
   ]
  },
  {
   "cell_type": "markdown",
   "metadata": {},
   "source": [
    "Connect to database"
   ]
  },
  {
   "cell_type": "code",
   "execution_count": 20,
   "metadata": {},
   "outputs": [
    {
     "ename": "OperationalError",
     "evalue": "[Version 20.0.0.19] [Session 0] [Teradata SQL Driver] Hostname lookup failed for primarkclw-vjpiuc437tcyfda4.env.clearscape.teradata.com\n at gosqldriver/teradatasql.formatError ErrorUtil.go:91\n at gosqldriver/teradatasql.(*teradataConnection).makeDriverError ErrorUtil.go:193\n at gosqldriver/teradatasql.(*nameLookup).getAddresses CopDiscovery.go:95\n at gosqldriver/teradatasql.discoverCops CopDiscovery.go:177\n at gosqldriver/teradatasql.newTeradataConnection TeradataConnection.go:145\n at gosqldriver/teradatasql.(*teradataDriver).Open TeradataDriver.go:32\n at database/sql.dsnConnector.Connect sql.go:791\n at database/sql.(*DB).conn sql.go:1415\n at database/sql.(*DB).Conn.func1 sql.go:1940\n at database/sql.(*DB).retry sql.go:1566\n at database/sql.(*DB).Conn sql.go:1939\n at main.goCreateConnection goside.go:303\n at _cgoexp_e3ee842aae7c_goCreateConnection _cgo_gotypes.go:265\n at runtime.cgocallbackg1 cgocall.go:403\n at runtime.cgocallbackg cgocall.go:322\n at runtime.cgocallback asm_amd64.s:1079\n at runtime.goexit asm_amd64.s:1695\nCaused by lookup primarkclw-vjpiuc437tcyfda4.env.clearscape.teradata.com: no such host",
     "output_type": "error",
     "traceback": [
      "\u001b[1;31m---------------------------------------------------------------------------\u001b[0m",
      "\u001b[1;31mOperationalError\u001b[0m                          Traceback (most recent call last)",
      "Cell \u001b[1;32mIn[20], line 2\u001b[0m\n\u001b[0;32m      1\u001b[0m \u001b[38;5;66;03m# connect to teradata\u001b[39;00m\n\u001b[1;32m----> 2\u001b[0m conn \u001b[38;5;241m=\u001b[39m \u001b[43mteradatasql\u001b[49m\u001b[38;5;241;43m.\u001b[39;49m\u001b[43mconnect\u001b[49m\u001b[43m(\u001b[49m\u001b[43mhost\u001b[49m\u001b[38;5;241;43m=\u001b[39;49m\u001b[43mproject_connection\u001b[49m\u001b[43m[\u001b[49m\u001b[38;5;124;43m'\u001b[39;49m\u001b[38;5;124;43mserver\u001b[39;49m\u001b[38;5;124;43m'\u001b[39;49m\u001b[43m]\u001b[49m\u001b[43m,\u001b[49m\u001b[43m \u001b[49m\u001b[43muser\u001b[49m\u001b[38;5;241;43m=\u001b[39;49m\u001b[43mproject_connection\u001b[49m\u001b[43m[\u001b[49m\u001b[38;5;124;43m'\u001b[39;49m\u001b[38;5;124;43musername\u001b[39;49m\u001b[38;5;124;43m'\u001b[39;49m\u001b[43m]\u001b[49m\u001b[43m,\u001b[49m\u001b[43m \u001b[49m\u001b[43mpassword\u001b[49m\u001b[38;5;241;43m=\u001b[39;49m\u001b[43mproject_connection\u001b[49m\u001b[43m[\u001b[49m\u001b[38;5;124;43m'\u001b[39;49m\u001b[38;5;124;43mpassword\u001b[39;49m\u001b[38;5;124;43m'\u001b[39;49m\u001b[43m]\u001b[49m\u001b[43m)\u001b[49m    \n",
      "File \u001b[1;32mc:\\Users\\cw171001\\OneDrive - Teradata\\Documents\\dbt_clearscape\\dbt_clearscape\\dbt-env\\Lib\\site-packages\\teradatasql\\__init__.py:195\u001b[0m, in \u001b[0;36mTeradataConnection.__init__\u001b[1;34m(self, sConnectParams, **kwargs)\u001b[0m\n\u001b[0;32m    193\u001b[0m         sErr \u001b[38;5;241m=\u001b[39m ctypes\u001b[38;5;241m.\u001b[39mstring_at(pcError)\u001b[38;5;241m.\u001b[39mdecode(\u001b[38;5;124m'\u001b[39m\u001b[38;5;124mutf-8\u001b[39m\u001b[38;5;124m'\u001b[39m)\n\u001b[0;32m    194\u001b[0m         goside\u001b[38;5;241m.\u001b[39mgoFreePointer (\u001b[38;5;28mself\u001b[39m\u001b[38;5;241m.\u001b[39muLog, pcError)\n\u001b[1;32m--> 195\u001b[0m         \u001b[38;5;28;01mraise\u001b[39;00m OperationalError(sErr)\n\u001b[0;32m    197\u001b[0m     \u001b[38;5;28mself\u001b[39m\u001b[38;5;241m.\u001b[39muConnHandle \u001b[38;5;241m=\u001b[39m uConnHandle\u001b[38;5;241m.\u001b[39mvalue\n\u001b[0;32m    199\u001b[0m \u001b[38;5;28;01mfinally\u001b[39;00m:\n",
      "\u001b[1;31mOperationalError\u001b[0m: [Version 20.0.0.19] [Session 0] [Teradata SQL Driver] Hostname lookup failed for primarkclw-vjpiuc437tcyfda4.env.clearscape.teradata.com\n at gosqldriver/teradatasql.formatError ErrorUtil.go:91\n at gosqldriver/teradatasql.(*teradataConnection).makeDriverError ErrorUtil.go:193\n at gosqldriver/teradatasql.(*nameLookup).getAddresses CopDiscovery.go:95\n at gosqldriver/teradatasql.discoverCops CopDiscovery.go:177\n at gosqldriver/teradatasql.newTeradataConnection TeradataConnection.go:145\n at gosqldriver/teradatasql.(*teradataDriver).Open TeradataDriver.go:32\n at database/sql.dsnConnector.Connect sql.go:791\n at database/sql.(*DB).conn sql.go:1415\n at database/sql.(*DB).Conn.func1 sql.go:1940\n at database/sql.(*DB).retry sql.go:1566\n at database/sql.(*DB).Conn sql.go:1939\n at main.goCreateConnection goside.go:303\n at _cgoexp_e3ee842aae7c_goCreateConnection _cgo_gotypes.go:265\n at runtime.cgocallbackg1 cgocall.go:403\n at runtime.cgocallbackg cgocall.go:322\n at runtime.cgocallback asm_amd64.s:1079\n at runtime.goexit asm_amd64.s:1695\nCaused by lookup primarkclw-vjpiuc437tcyfda4.env.clearscape.teradata.com: no such host"
     ]
    }
   ],
   "source": [
    "# connect to teradata\n",
    "conn = teradatasql.connect(host=project_connection['server'], user=project_connection['username'], password=project_connection['password'])    "
   ]
  },
  {
   "cell_type": "markdown",
   "metadata": {},
   "source": [
    "# Create all the database\n",
    "\n",
    "The databases are\n",
    "\n",
    "- CS01\n",
    "- CS01_RAW\n",
    "- CS01_RAW_VIEW\n",
    "- CS01_TARGET\n",
    "- CS01_TARGET_VIEW\n",
    "\n"
   ]
  },
  {
   "cell_type": "code",
   "execution_count": 11,
   "metadata": {},
   "outputs": [],
   "source": [
    "# TODO - setup parameterised db config\n",
    "db_list = {}\n",
    "db_list ['CS01'] = {'owner': {project_connection['username']},'space':0}\n",
    "db_list ['CS01_RAW'] = {'owner': 'CS01','space':0}\n",
    "db_list ['CS01_RAW_VIEW'] = {'owner': 'CS01','space':0}\n",
    "db_list ['CS01_TARGET'] = {'owner': 'CS01','space':10000}\n",
    "db_list ['CS01_TARGET_VIEW'] = {'owner': 'CS01','space':0}"
   ]
  },
  {
   "cell_type": "code",
   "execution_count": 13,
   "metadata": {},
   "outputs": [
    {
     "name": "stdout",
     "output_type": "stream",
     "text": [
      "0 CS01\n"
     ]
    },
    {
     "ename": "OperationalError",
     "evalue": "[Version 20.0.0.19] [Session 1624] [Teradata SQL Driver] Failure sending Start Request message\n at gosqldriver/teradatasql.formatError ErrorUtil.go:91\n at gosqldriver/teradatasql.(*teradataConnection).makeDriverError ErrorUtil.go:193\n at gosqldriver/teradatasql.(*teradataConnection).socketSendMessage NetworkIO.go:291\n at gosqldriver/teradatasql.(*teradataConnection).socketSendAndReceiveContext NetworkIO.go:70\n at gosqldriver/teradatasql.(*teradataConnection).sendAndReceiveContext NetworkIO.go:50\n at gosqldriver/teradatasql.(*TeradataRows).executeSQLRequest TeradataRows.go:846\n at gosqldriver/teradatasql.newTeradataRows TeradataRows.go:720\n at gosqldriver/teradatasql.(*teradataStatement).QueryContext TeradataStatement.go:122\n at gosqldriver/teradatasql.(*teradataConnection).QueryContext TeradataConnection.go:1225\n at database/sql.ctxDriverQuery ctxutil.go:48\n at database/sql.(*DB).queryDC.func1 sql.go:1776\n at database/sql.withLock sql.go:3530\n at database/sql.(*DB).queryDC sql.go:1771\n at database/sql.(*Conn).QueryContext sql.go:2027\n at main.createRows goside.go:1080\n at main.goCreateRows goside.go:959\n at _cgoexp_e3ee842aae7c_goCreateRows _cgo_gotypes.go:414\n at runtime.cgocallbackg1 cgocall.go:403\n at runtime.cgocallbackg cgocall.go:322\n at runtime.cgocallback asm_amd64.s:1079\n at runtime.goexit asm_amd64.s:1695\nCaused by write tcp 192.168.251.116:57345->34.159.110.175:443: wsasend: An existing connection was forcibly closed by the remote host.",
     "output_type": "error",
     "traceback": [
      "\u001b[1;31m---------------------------------------------------------------------------\u001b[0m",
      "\u001b[1;31mOperationalError\u001b[0m                          Traceback (most recent call last)",
      "Cell \u001b[1;32mIn[13], line 5\u001b[0m\n\u001b[0;32m      3\u001b[0m \u001b[38;5;28;01mfor\u001b[39;00m i,db \u001b[38;5;129;01min\u001b[39;00m \u001b[38;5;28menumerate\u001b[39m(db_list):\n\u001b[0;32m      4\u001b[0m     \u001b[38;5;28mprint\u001b[39m(i,db)\n\u001b[1;32m----> 5\u001b[0m     \u001b[43mcsr\u001b[49m\u001b[38;5;241;43m.\u001b[39;49m\u001b[43mexecute\u001b[49m\u001b[43m(\u001b[49m\u001b[38;5;124;43mf\u001b[39;49m\u001b[38;5;124;43m'\u001b[39;49m\u001b[38;5;124;43mDELETE DATABASE \u001b[39;49m\u001b[38;5;132;43;01m{\u001b[39;49;00m\u001b[43mdb\u001b[49m\u001b[38;5;132;43;01m}\u001b[39;49;00m\u001b[38;5;124;43m'\u001b[39;49m\u001b[43m)\u001b[49m\n",
      "File \u001b[1;32mc:\\Users\\cw171001\\OneDrive - Teradata\\Documents\\dbt_clearscape\\dbt_clearscape\\dbt-env\\Lib\\site-packages\\teradatasql\\__init__.py:743\u001b[0m, in \u001b[0;36mTeradataCursor.execute\u001b[1;34m(self, sOperation, params, ignoreErrors)\u001b[0m\n\u001b[0;32m    740\u001b[0m     \u001b[38;5;28;01mraise\u001b[39;00m \u001b[38;5;167;01mTypeError\u001b[39;00m (\u001b[38;5;124m\"\u001b[39m\u001b[38;5;124mparams unexpected type \u001b[39m\u001b[38;5;132;01m{}\u001b[39;00m\u001b[38;5;124m\"\u001b[39m\u001b[38;5;241m.\u001b[39mformat (\u001b[38;5;28mtype\u001b[39m (params)))\n\u001b[0;32m    742\u001b[0m \u001b[38;5;28;01mif\u001b[39;00m \u001b[38;5;129;01mnot\u001b[39;00m params:\n\u001b[1;32m--> 743\u001b[0m     \u001b[38;5;28;43mself\u001b[39;49m\u001b[38;5;241;43m.\u001b[39;49m\u001b[43mexecutemany\u001b[49m\u001b[43m \u001b[49m\u001b[43m(\u001b[49m\u001b[43msOperation\u001b[49m\u001b[43m,\u001b[49m\u001b[43m \u001b[49m\u001b[38;5;28;43;01mNone\u001b[39;49;00m\u001b[43m,\u001b[49m\u001b[43m \u001b[49m\u001b[43mignoreErrors\u001b[49m\u001b[43m)\u001b[49m\n\u001b[0;32m    745\u001b[0m \u001b[38;5;28;01melif\u001b[39;00m \u001b[38;5;28mtype\u001b[39m (params [\u001b[38;5;241m0\u001b[39m]) \u001b[38;5;129;01min\u001b[39;00m [\u001b[38;5;28mlist\u001b[39m, \u001b[38;5;28mtuple\u001b[39m]:\n\u001b[0;32m    746\u001b[0m     \u001b[38;5;66;03m# Excerpt from PEP 249 DBAPI documentation:\u001b[39;00m\n\u001b[0;32m    747\u001b[0m     \u001b[38;5;66;03m#  The parameters may also be specified as list of tuples to e.g. insert multiple rows in a single\u001b[39;00m\n\u001b[0;32m    748\u001b[0m     \u001b[38;5;66;03m#  operation, but this kind of usage is deprecated: .executemany() should be used instead.\u001b[39;00m\n\u001b[0;32m    749\u001b[0m     \u001b[38;5;28mself\u001b[39m\u001b[38;5;241m.\u001b[39mexecutemany (sOperation, params, ignoreErrors)\n",
      "File \u001b[1;32mc:\\Users\\cw171001\\OneDrive - Teradata\\Documents\\dbt_clearscape\\dbt_clearscape\\dbt-env\\Lib\\site-packages\\teradatasql\\__init__.py:998\u001b[0m, in \u001b[0;36mTeradataCursor.executemany\u001b[1;34m(self, sOperation, seqOfParams, ignoreErrors)\u001b[0m\n\u001b[0;32m    995\u001b[0m     \u001b[38;5;28;01mif\u001b[39;00m bIgnore:\n\u001b[0;32m    996\u001b[0m         \u001b[38;5;28;01mreturn\u001b[39;00m\n\u001b[1;32m--> 998\u001b[0m     \u001b[38;5;28;01mraise\u001b[39;00m OperationalError (sErr)\n\u001b[0;32m   1000\u001b[0m \u001b[38;5;28;01mif\u001b[39;00m \u001b[38;5;28mself\u001b[39m\u001b[38;5;241m.\u001b[39mconnection\u001b[38;5;241m.\u001b[39mbTimingLog:\n\u001b[0;32m   1001\u001b[0m     timingLog (\u001b[38;5;124m\"\u001b[39m\u001b[38;5;124mexecutemany call to goCreateRows took \u001b[39m\u001b[38;5;132;01m{}\u001b[39;00m\u001b[38;5;124m ms\u001b[39m\u001b[38;5;124m\"\u001b[39m\u001b[38;5;241m.\u001b[39mformat ((time\u001b[38;5;241m.\u001b[39mtime () \u001b[38;5;241m-\u001b[39m dStartTime) \u001b[38;5;241m*\u001b[39m \u001b[38;5;241m1000.0\u001b[39m))\n",
      "\u001b[1;31mOperationalError\u001b[0m: [Version 20.0.0.19] [Session 1624] [Teradata SQL Driver] Failure sending Start Request message\n at gosqldriver/teradatasql.formatError ErrorUtil.go:91\n at gosqldriver/teradatasql.(*teradataConnection).makeDriverError ErrorUtil.go:193\n at gosqldriver/teradatasql.(*teradataConnection).socketSendMessage NetworkIO.go:291\n at gosqldriver/teradatasql.(*teradataConnection).socketSendAndReceiveContext NetworkIO.go:70\n at gosqldriver/teradatasql.(*teradataConnection).sendAndReceiveContext NetworkIO.go:50\n at gosqldriver/teradatasql.(*TeradataRows).executeSQLRequest TeradataRows.go:846\n at gosqldriver/teradatasql.newTeradataRows TeradataRows.go:720\n at gosqldriver/teradatasql.(*teradataStatement).QueryContext TeradataStatement.go:122\n at gosqldriver/teradatasql.(*teradataConnection).QueryContext TeradataConnection.go:1225\n at database/sql.ctxDriverQuery ctxutil.go:48\n at database/sql.(*DB).queryDC.func1 sql.go:1776\n at database/sql.withLock sql.go:3530\n at database/sql.(*DB).queryDC sql.go:1771\n at database/sql.(*Conn).QueryContext sql.go:2027\n at main.createRows goside.go:1080\n at main.goCreateRows goside.go:959\n at _cgoexp_e3ee842aae7c_goCreateRows _cgo_gotypes.go:414\n at runtime.cgocallbackg1 cgocall.go:403\n at runtime.cgocallbackg cgocall.go:322\n at runtime.cgocallback asm_amd64.s:1079\n at runtime.goexit asm_amd64.s:1695\nCaused by write tcp 192.168.251.116:57345->34.159.110.175:443: wsasend: An existing connection was forcibly closed by the remote host."
     ]
    }
   ],
   "source": [
    "# Delete and then drop all databases\n",
    "with conn.cursor() as csr:\n",
    "    for i,db in enumerate(db_list):\n",
    "        print(i,db)\n",
    "        csr.execute(f'DELETE DATABASE {db}')\n",
    "        csr.execute(f'DROP DATABASE {db}')"
   ]
  },
  {
   "cell_type": "code",
   "execution_count": null,
   "metadata": {},
   "outputs": [],
   "source": [
    "# TODO : Convert to a more parameteris version"
   ]
  },
  {
   "cell_type": "code",
   "execution_count": 25,
   "metadata": {},
   "outputs": [
    {
     "name": "stdout",
     "output_type": "stream",
     "text": [
      "Database created\n",
      "Comment added\n"
     ]
    }
   ],
   "source": [
    "sql = f\"CREATE DATABASE CS01 FROM {project_connection['username']} AS PERM=0\"\n",
    "with conn.cursor() as cur:\n",
    "    cur.execute(sql, ignoreErrors=[5612])\n",
    "    print('Database created')\n",
    "    cur.execute(\"COMMENT ON CS01 AS 'Base database for Clearscape'\")\n",
    "    print('Comment added')"
   ]
  },
  {
   "cell_type": "code",
   "execution_count": 26,
   "metadata": {},
   "outputs": [
    {
     "name": "stdout",
     "output_type": "stream",
     "text": [
      "Database created\n",
      "Comment added\n"
     ]
    }
   ],
   "source": [
    "sql = f\"CREATE DATABASE CS01_RAW FROM CS01 AS PERM=0\"\n",
    "with conn.cursor() as cur:\n",
    "    cur.execute(sql, ignoreErrors=[5612])\n",
    "    print('Database created')\n",
    "    cur.execute(\"COMMENT ON CS01_RAW AS 'raw database for Clearscape'\")\n",
    "    print('Comment added')"
   ]
  },
  {
   "cell_type": "code",
   "execution_count": 27,
   "metadata": {},
   "outputs": [
    {
     "name": "stdout",
     "output_type": "stream",
     "text": [
      "Database created\n",
      "Comment added\n"
     ]
    }
   ],
   "source": [
    "sql = f\"CREATE DATABASE CS01_RAW_VIEW FROM CS01 AS PERM=0\"\n",
    "with conn.cursor() as cur:\n",
    "    cur.execute(sql, ignoreErrors=[5612])\n",
    "    print('Database created')\n",
    "    cur.execute(\"COMMENT ON CS01_RAW_VIEW AS 'raw database for Clearscape'\")\n",
    "    print('Comment added')"
   ]
  },
  {
   "cell_type": "code",
   "execution_count": 28,
   "metadata": {},
   "outputs": [
    {
     "name": "stdout",
     "output_type": "stream",
     "text": [
      "Database created\n",
      "Comment added\n"
     ]
    }
   ],
   "source": [
    "sql = f\"CREATE DATABASE CS01_TARGET FROM CS01 AS PERM=0\"\n",
    "with conn.cursor() as cur:\n",
    "    cur.execute(sql, ignoreErrors=[5612])\n",
    "    print('Database created')\n",
    "    cur.execute(\"COMMENT ON CS01_TARGET AS 'target database for Clearscape'\")\n",
    "    print('Comment added')"
   ]
  },
  {
   "cell_type": "code",
   "execution_count": 29,
   "metadata": {},
   "outputs": [
    {
     "name": "stdout",
     "output_type": "stream",
     "text": [
      "Database created\n",
      "Comment added\n"
     ]
    }
   ],
   "source": [
    "sql = f\"CREATE DATABASE CS01_TARGET_VIEW FROM CS01 AS PERM=0\"\n",
    "with conn.cursor() as cur:\n",
    "    cur.execute(sql, ignoreErrors=[5612])\n",
    "    print('Database created')\n",
    "    cur.execute(\"COMMENT ON CS01_TARGET_VIEW AS 'target database for Clearscape'\")\n",
    "    print('Comment added')"
   ]
  },
  {
   "cell_type": "code",
   "execution_count": 30,
   "metadata": {},
   "outputs": [
    {
     "name": "stdout",
     "output_type": "stream",
     "text": [
      "Grant created\n",
      "Grant created\n"
     ]
    }
   ],
   "source": [
    "# grant intra database access\n",
    "sql = f\"GRANT SELECT, INSERT, UPDATE, DELETE ON CS01_RAW TO CS01_RAW_VIEW WITH GRANT OPTION\"\n",
    "with conn.cursor() as cur:\n",
    "    cur.execute(sql)\n",
    "    print('Grant created')\n",
    "\n",
    "sql = f\"GRANT SELECT, INSERT, UPDATE, DELETE ON CS01_TARGET TO CS01_TARGET_VIEW WITH GRANT OPTION\"\n",
    "with conn.cursor() as cur:\n",
    "    cur.execute(sql)\n",
    "    print('Grant created')\n",
    "\n",
    "# dbc access\n",
    "sql = f\"GRANT SELECT ON DBC.Databases TO CS01_RAW_VIEW WITH GRANT OPTION\"\n",
    "with conn.cursor() as cur:\n",
    "    cur.execute(sql)\n",
    "    print('Grant created')\n",
    "\n"
   ]
  },
  {
   "cell_type": "markdown",
   "metadata": {},
   "source": [
    "Allocate space for the databases"
   ]
  },
  {
   "cell_type": "code",
   "execution_count": 9,
   "metadata": {},
   "outputs": [],
   "source": [
    "with conn.cursor() as csr:\n",
    "    # drop space database if it exists\n",
    "    csr.execute('DROP DATABASE CS01_SPACE',ignoreErrors = [3802])\n",
    "    # create space data with space\n",
    "    csr.execute(f'CREATE DATABASE CS01_SPACE FROM {project_connection['username']}  AS PERM=10000000 ')\n",
    "    # give space to database\n",
    "    csr.execute(f'GIVE CS01_SPACE TO CS01_RAW')\n",
    "    # drop space\n",
    "    csr.execute('DROP DATABASE CS01_SPACE',ignoreErrors = [])"
   ]
  },
  {
   "cell_type": "code",
   "execution_count": 10,
   "metadata": {},
   "outputs": [],
   "source": [
    "with conn.cursor() as csr:\n",
    "    # drop space database if it exists\n",
    "    csr.execute('DROP DATABASE CS01_SPACE',ignoreErrors = [3802])\n",
    "    # create space data with space\n",
    "    csr.execute(f'CREATE DATABASE CS01_SPACE FROM {project_connection['username']}  AS PERM=10000000 ')\n",
    "    # give space to database\n",
    "    csr.execute(f'GIVE CS01_SPACE TO CS01_TARGET')\n",
    "    # drop space\n",
    "    csr.execute('DROP DATABASE CS01_SPACE',ignoreErrors = [])"
   ]
  }
 ],
 "metadata": {
  "kernelspec": {
   "display_name": "dbt-env",
   "language": "python",
   "name": "python3"
  },
  "language_info": {
   "codemirror_mode": {
    "name": "ipython",
    "version": 3
   },
   "file_extension": ".py",
   "mimetype": "text/x-python",
   "name": "python",
   "nbconvert_exporter": "python",
   "pygments_lexer": "ipython3",
   "version": "3.12.7"
  }
 },
 "nbformat": 4,
 "nbformat_minor": 2
}
