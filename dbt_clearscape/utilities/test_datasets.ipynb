{
 "cells": [
  {
   "cell_type": "markdown",
   "metadata": {},
   "source": [
    "# Populate test dataset\n",
    "THis will populate the test datasets on a teradata vantage test system\n",
    "usually this is free demo system"
   ]
  },
  {
   "cell_type": "code",
   "execution_count": 1,
   "metadata": {},
   "outputs": [],
   "source": [
    "import teradatasql\n",
    "import yaml\n",
    "import sys\n",
    "import os\n",
    "import sqlparse\n",
    "import pandas as pd"
   ]
  },
  {
   "cell_type": "code",
   "execution_count": 2,
   "metadata": {},
   "outputs": [],
   "source": [
    "# get home directory\n",
    "from os.path import expanduser\n",
    "import pprint\n",
    "home = expanduser(\"~\")\n",
    "# assume project is called dbt_clearscape\n",
    "project = 'dbt_clearscape'\n",
    "# read config file\n",
    "with open(home + '/.dbt/profiles.yml') as file:\n",
    "    config = yaml.load(file, Loader=yaml.FullLoader)\n",
    "# get project config\n",
    "if project not in config:\n",
    "    print('project not found in config file')\n",
    "project_config = config[project]\n",
    "# get target\n",
    "target = project_config['target']\n",
    "# get connection details\n",
    "project_connection = project_config['outputs'][target]\n",
    "#pprint.pprint(project_connection)"
   ]
  },
  {
   "cell_type": "markdown",
   "metadata": {},
   "source": [
    "Connect to vantage"
   ]
  },
  {
   "cell_type": "code",
   "execution_count": 3,
   "metadata": {},
   "outputs": [
    {
     "ename": "OperationalError",
     "evalue": "[Version 20.0.0.19] [Session 0] [Teradata SQL Driver] Failed to connect to primarkclw-vjpiuc437tcyfda4.env.clearscape.teradata.com\n at gosqldriver/teradatasql.formatError ErrorUtil.go:91\n at gosqldriver/teradatasql.(*teradataConnection).makeDriverError ErrorUtil.go:193\n at gosqldriver/teradatasql.connectToHost LCC.go:249\n at gosqldriver/teradatasql.newTeradataConnection TeradataConnection.go:155\n at gosqldriver/teradatasql.(*teradataDriver).Open TeradataDriver.go:32\n at database/sql.dsnConnector.Connect sql.go:791\n at database/sql.(*DB).conn sql.go:1415\n at database/sql.(*DB).Conn.func1 sql.go:1940\n at database/sql.(*DB).retry sql.go:1566\n at database/sql.(*DB).Conn sql.go:1939\n at main.goCreateConnection goside.go:303\n at _cgoexp_e3ee842aae7c_goCreateConnection _cgo_gotypes.go:265\n at runtime.cgocallbackg1 cgocall.go:403\n at runtime.cgocallbackg cgocall.go:322\n at runtime.cgocallback asm_amd64.s:1079\n at runtime.goexit asm_amd64.s:1695\nCaused by read tcp 192.168.251.116:56766->34.159.110.175:443: wsarecv: An existing connection was forcibly closed by the remote host.",
     "output_type": "error",
     "traceback": [
      "\u001b[1;31m---------------------------------------------------------------------------\u001b[0m",
      "\u001b[1;31mOperationalError\u001b[0m                          Traceback (most recent call last)",
      "Cell \u001b[1;32mIn[3], line 2\u001b[0m\n\u001b[0;32m      1\u001b[0m \u001b[38;5;66;03m# connect to teradata\u001b[39;00m\n\u001b[1;32m----> 2\u001b[0m conn \u001b[38;5;241m=\u001b[39m \u001b[43mteradatasql\u001b[49m\u001b[38;5;241;43m.\u001b[39;49m\u001b[43mconnect\u001b[49m\u001b[43m(\u001b[49m\u001b[43mhost\u001b[49m\u001b[38;5;241;43m=\u001b[39;49m\u001b[43mproject_connection\u001b[49m\u001b[43m[\u001b[49m\u001b[38;5;124;43m'\u001b[39;49m\u001b[38;5;124;43mserver\u001b[39;49m\u001b[38;5;124;43m'\u001b[39;49m\u001b[43m]\u001b[49m\u001b[43m,\u001b[49m\u001b[43m \u001b[49m\u001b[43muser\u001b[49m\u001b[38;5;241;43m=\u001b[39;49m\u001b[43mproject_connection\u001b[49m\u001b[43m[\u001b[49m\u001b[38;5;124;43m'\u001b[39;49m\u001b[38;5;124;43musername\u001b[39;49m\u001b[38;5;124;43m'\u001b[39;49m\u001b[43m]\u001b[49m\u001b[43m,\u001b[49m\u001b[43m \u001b[49m\u001b[43mpassword\u001b[49m\u001b[38;5;241;43m=\u001b[39;49m\u001b[43mproject_connection\u001b[49m\u001b[43m[\u001b[49m\u001b[38;5;124;43m'\u001b[39;49m\u001b[38;5;124;43mpassword\u001b[39;49m\u001b[38;5;124;43m'\u001b[39;49m\u001b[43m]\u001b[49m\u001b[43m)\u001b[49m    \n",
      "File \u001b[1;32mc:\\Users\\cw171001\\OneDrive - Teradata\\Documents\\dbt_clearscape\\dbt_clearscape\\dbt-env\\Lib\\site-packages\\teradatasql\\__init__.py:195\u001b[0m, in \u001b[0;36mTeradataConnection.__init__\u001b[1;34m(self, sConnectParams, **kwargs)\u001b[0m\n\u001b[0;32m    193\u001b[0m         sErr \u001b[38;5;241m=\u001b[39m ctypes\u001b[38;5;241m.\u001b[39mstring_at(pcError)\u001b[38;5;241m.\u001b[39mdecode(\u001b[38;5;124m'\u001b[39m\u001b[38;5;124mutf-8\u001b[39m\u001b[38;5;124m'\u001b[39m)\n\u001b[0;32m    194\u001b[0m         goside\u001b[38;5;241m.\u001b[39mgoFreePointer (\u001b[38;5;28mself\u001b[39m\u001b[38;5;241m.\u001b[39muLog, pcError)\n\u001b[1;32m--> 195\u001b[0m         \u001b[38;5;28;01mraise\u001b[39;00m OperationalError(sErr)\n\u001b[0;32m    197\u001b[0m     \u001b[38;5;28mself\u001b[39m\u001b[38;5;241m.\u001b[39muConnHandle \u001b[38;5;241m=\u001b[39m uConnHandle\u001b[38;5;241m.\u001b[39mvalue\n\u001b[0;32m    199\u001b[0m \u001b[38;5;28;01mfinally\u001b[39;00m:\n",
      "\u001b[1;31mOperationalError\u001b[0m: [Version 20.0.0.19] [Session 0] [Teradata SQL Driver] Failed to connect to primarkclw-vjpiuc437tcyfda4.env.clearscape.teradata.com\n at gosqldriver/teradatasql.formatError ErrorUtil.go:91\n at gosqldriver/teradatasql.(*teradataConnection).makeDriverError ErrorUtil.go:193\n at gosqldriver/teradatasql.connectToHost LCC.go:249\n at gosqldriver/teradatasql.newTeradataConnection TeradataConnection.go:155\n at gosqldriver/teradatasql.(*teradataDriver).Open TeradataDriver.go:32\n at database/sql.dsnConnector.Connect sql.go:791\n at database/sql.(*DB).conn sql.go:1415\n at database/sql.(*DB).Conn.func1 sql.go:1940\n at database/sql.(*DB).retry sql.go:1566\n at database/sql.(*DB).Conn sql.go:1939\n at main.goCreateConnection goside.go:303\n at _cgoexp_e3ee842aae7c_goCreateConnection _cgo_gotypes.go:265\n at runtime.cgocallbackg1 cgocall.go:403\n at runtime.cgocallbackg cgocall.go:322\n at runtime.cgocallback asm_amd64.s:1079\n at runtime.goexit asm_amd64.s:1695\nCaused by read tcp 192.168.251.116:56766->34.159.110.175:443: wsarecv: An existing connection was forcibly closed by the remote host."
     ]
    }
   ],
   "source": [
    "# connect to teradata\n",
    "conn = teradatasql.connect(host=project_connection['server'], user=project_connection['username'], password=project_connection['password'])    "
   ]
  }
 ],
 "metadata": {
  "kernelspec": {
   "display_name": "dbt-env",
   "language": "python",
   "name": "python3"
  },
  "language_info": {
   "codemirror_mode": {
    "name": "ipython",
    "version": 3
   },
   "file_extension": ".py",
   "mimetype": "text/x-python",
   "name": "python",
   "nbconvert_exporter": "python",
   "pygments_lexer": "ipython3",
   "version": "3.12.7"
  }
 },
 "nbformat": 4,
 "nbformat_minor": 2
}
